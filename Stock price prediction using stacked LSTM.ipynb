{
 "cells": [
  {
   "cell_type": "code",
   "execution_count": 68,
   "metadata": {},
   "outputs": [],
   "source": [
    "# libraries\n",
    "import pandas as pd\n",
    "import numpy as np\n",
    "import matplotlib.pyplot as plt\n",
    "%matplotlib inline\n",
    "\n",
    "import warnings\n",
    "warnings.filterwarnings('ignore')\n",
    "\n",
    "# data collection\n",
    "import pandas_datareader as pdr"
   ]
  },
  {
   "cell_type": "code",
   "execution_count": 69,
   "metadata": {},
   "outputs": [],
   "source": [
    "# the api_key that was geneated in the 'tiingo' site\n",
    "key = 'Enter Your API Key Here'"
   ]
  },
  {
   "cell_type": "code",
   "execution_count": 70,
   "metadata": {},
   "outputs": [
    {
     "data": {
      "text/html": [
       "<div>\n",
       "<style scoped>\n",
       "    .dataframe tbody tr th:only-of-type {\n",
       "        vertical-align: middle;\n",
       "    }\n",
       "\n",
       "    .dataframe tbody tr th {\n",
       "        vertical-align: top;\n",
       "    }\n",
       "\n",
       "    .dataframe thead th {\n",
       "        text-align: right;\n",
       "    }\n",
       "</style>\n",
       "<table border=\"1\" class=\"dataframe\">\n",
       "  <thead>\n",
       "    <tr style=\"text-align: right;\">\n",
       "      <th></th>\n",
       "      <th></th>\n",
       "      <th>close</th>\n",
       "      <th>high</th>\n",
       "      <th>low</th>\n",
       "      <th>open</th>\n",
       "      <th>volume</th>\n",
       "      <th>adjClose</th>\n",
       "      <th>adjHigh</th>\n",
       "      <th>adjLow</th>\n",
       "      <th>adjOpen</th>\n",
       "      <th>adjVolume</th>\n",
       "      <th>divCash</th>\n",
       "      <th>splitFactor</th>\n",
       "    </tr>\n",
       "    <tr>\n",
       "      <th>symbol</th>\n",
       "      <th>date</th>\n",
       "      <th></th>\n",
       "      <th></th>\n",
       "      <th></th>\n",
       "      <th></th>\n",
       "      <th></th>\n",
       "      <th></th>\n",
       "      <th></th>\n",
       "      <th></th>\n",
       "      <th></th>\n",
       "      <th></th>\n",
       "      <th></th>\n",
       "      <th></th>\n",
       "    </tr>\n",
       "  </thead>\n",
       "  <tbody>\n",
       "    <tr>\n",
       "      <th rowspan=\"5\" valign=\"top\">FB</th>\n",
       "      <th>2015-06-01 00:00:00+00:00</th>\n",
       "      <td>80.290</td>\n",
       "      <td>80.38</td>\n",
       "      <td>78.66</td>\n",
       "      <td>79.30</td>\n",
       "      <td>18119012</td>\n",
       "      <td>80.290</td>\n",
       "      <td>80.38</td>\n",
       "      <td>78.66</td>\n",
       "      <td>79.30</td>\n",
       "      <td>18119012</td>\n",
       "      <td>0.0</td>\n",
       "      <td>1.0</td>\n",
       "    </tr>\n",
       "    <tr>\n",
       "      <th>2015-06-02 00:00:00+00:00</th>\n",
       "      <td>80.445</td>\n",
       "      <td>81.35</td>\n",
       "      <td>79.56</td>\n",
       "      <td>79.76</td>\n",
       "      <td>18923300</td>\n",
       "      <td>80.445</td>\n",
       "      <td>81.35</td>\n",
       "      <td>79.56</td>\n",
       "      <td>79.76</td>\n",
       "      <td>18923300</td>\n",
       "      <td>0.0</td>\n",
       "      <td>1.0</td>\n",
       "    </tr>\n",
       "    <tr>\n",
       "      <th>2015-06-03 00:00:00+00:00</th>\n",
       "      <td>82.440</td>\n",
       "      <td>82.53</td>\n",
       "      <td>81.25</td>\n",
       "      <td>81.35</td>\n",
       "      <td>31774993</td>\n",
       "      <td>82.440</td>\n",
       "      <td>82.53</td>\n",
       "      <td>81.25</td>\n",
       "      <td>81.35</td>\n",
       "      <td>31774993</td>\n",
       "      <td>0.0</td>\n",
       "      <td>1.0</td>\n",
       "    </tr>\n",
       "    <tr>\n",
       "      <th>2015-06-04 00:00:00+00:00</th>\n",
       "      <td>82.050</td>\n",
       "      <td>82.95</td>\n",
       "      <td>81.51</td>\n",
       "      <td>82.14</td>\n",
       "      <td>20863877</td>\n",
       "      <td>82.050</td>\n",
       "      <td>82.95</td>\n",
       "      <td>81.51</td>\n",
       "      <td>82.14</td>\n",
       "      <td>20863877</td>\n",
       "      <td>0.0</td>\n",
       "      <td>1.0</td>\n",
       "    </tr>\n",
       "    <tr>\n",
       "      <th>2015-06-05 00:00:00+00:00</th>\n",
       "      <td>82.140</td>\n",
       "      <td>82.46</td>\n",
       "      <td>81.51</td>\n",
       "      <td>81.87</td>\n",
       "      <td>16143093</td>\n",
       "      <td>82.140</td>\n",
       "      <td>82.46</td>\n",
       "      <td>81.51</td>\n",
       "      <td>81.87</td>\n",
       "      <td>16143093</td>\n",
       "      <td>0.0</td>\n",
       "      <td>1.0</td>\n",
       "    </tr>\n",
       "  </tbody>\n",
       "</table>\n",
       "</div>"
      ],
      "text/plain": [
       "                                   close   high    low   open    volume  \\\n",
       "symbol date                                                               \n",
       "FB     2015-06-01 00:00:00+00:00  80.290  80.38  78.66  79.30  18119012   \n",
       "       2015-06-02 00:00:00+00:00  80.445  81.35  79.56  79.76  18923300   \n",
       "       2015-06-03 00:00:00+00:00  82.440  82.53  81.25  81.35  31774993   \n",
       "       2015-06-04 00:00:00+00:00  82.050  82.95  81.51  82.14  20863877   \n",
       "       2015-06-05 00:00:00+00:00  82.140  82.46  81.51  81.87  16143093   \n",
       "\n",
       "                                  adjClose  adjHigh  adjLow  adjOpen  \\\n",
       "symbol date                                                            \n",
       "FB     2015-06-01 00:00:00+00:00    80.290    80.38   78.66    79.30   \n",
       "       2015-06-02 00:00:00+00:00    80.445    81.35   79.56    79.76   \n",
       "       2015-06-03 00:00:00+00:00    82.440    82.53   81.25    81.35   \n",
       "       2015-06-04 00:00:00+00:00    82.050    82.95   81.51    82.14   \n",
       "       2015-06-05 00:00:00+00:00    82.140    82.46   81.51    81.87   \n",
       "\n",
       "                                  adjVolume  divCash  splitFactor  \n",
       "symbol date                                                        \n",
       "FB     2015-06-01 00:00:00+00:00   18119012      0.0          1.0  \n",
       "       2015-06-02 00:00:00+00:00   18923300      0.0          1.0  \n",
       "       2015-06-03 00:00:00+00:00   31774993      0.0          1.0  \n",
       "       2015-06-04 00:00:00+00:00   20863877      0.0          1.0  \n",
       "       2015-06-05 00:00:00+00:00   16143093      0.0          1.0  "
      ]
     },
     "execution_count": 70,
     "metadata": {},
     "output_type": "execute_result"
    }
   ],
   "source": [
    "# storing the Stock price data for Apple into a dataframe\n",
    "df = pdr.get_data_tiingo('FB', api_key = key) \n",
    "\n",
    "# checking the data\n",
    "df.head()"
   ]
  },
  {
   "cell_type": "code",
   "execution_count": 71,
   "metadata": {},
   "outputs": [],
   "source": [
    "#coverting the data into a csv for future use\n",
    "df.to_csv('facebook_stock_price.csv')"
   ]
  },
  {
   "cell_type": "code",
   "execution_count": 49,
   "metadata": {},
   "outputs": [],
   "source": [
    "#df = pd.read_csv(\"facebook_stock_price.csv\")"
   ]
  },
  {
   "cell_type": "code",
   "execution_count": 72,
   "metadata": {},
   "outputs": [
    {
     "data": {
      "text/html": [
       "<div>\n",
       "<style scoped>\n",
       "    .dataframe tbody tr th:only-of-type {\n",
       "        vertical-align: middle;\n",
       "    }\n",
       "\n",
       "    .dataframe tbody tr th {\n",
       "        vertical-align: top;\n",
       "    }\n",
       "\n",
       "    .dataframe thead th {\n",
       "        text-align: right;\n",
       "    }\n",
       "</style>\n",
       "<table border=\"1\" class=\"dataframe\">\n",
       "  <thead>\n",
       "    <tr style=\"text-align: right;\">\n",
       "      <th></th>\n",
       "      <th></th>\n",
       "      <th>close</th>\n",
       "      <th>high</th>\n",
       "      <th>low</th>\n",
       "      <th>open</th>\n",
       "      <th>volume</th>\n",
       "      <th>adjClose</th>\n",
       "      <th>adjHigh</th>\n",
       "      <th>adjLow</th>\n",
       "      <th>adjOpen</th>\n",
       "      <th>adjVolume</th>\n",
       "      <th>divCash</th>\n",
       "      <th>splitFactor</th>\n",
       "    </tr>\n",
       "    <tr>\n",
       "      <th>symbol</th>\n",
       "      <th>date</th>\n",
       "      <th></th>\n",
       "      <th></th>\n",
       "      <th></th>\n",
       "      <th></th>\n",
       "      <th></th>\n",
       "      <th></th>\n",
       "      <th></th>\n",
       "      <th></th>\n",
       "      <th></th>\n",
       "      <th></th>\n",
       "      <th></th>\n",
       "      <th></th>\n",
       "    </tr>\n",
       "  </thead>\n",
       "  <tbody>\n",
       "    <tr>\n",
       "      <th rowspan=\"5\" valign=\"top\">FB</th>\n",
       "      <th>2020-05-22 00:00:00+00:00</th>\n",
       "      <td>234.91</td>\n",
       "      <td>235.9900</td>\n",
       "      <td>228.7400</td>\n",
       "      <td>231.51</td>\n",
       "      <td>33925564</td>\n",
       "      <td>234.91</td>\n",
       "      <td>235.9900</td>\n",
       "      <td>228.7400</td>\n",
       "      <td>231.51</td>\n",
       "      <td>33925564</td>\n",
       "      <td>0.0</td>\n",
       "      <td>1.0</td>\n",
       "    </tr>\n",
       "    <tr>\n",
       "      <th>2020-05-26 00:00:00+00:00</th>\n",
       "      <td>232.20</td>\n",
       "      <td>240.9000</td>\n",
       "      <td>231.6700</td>\n",
       "      <td>239.77</td>\n",
       "      <td>33178318</td>\n",
       "      <td>232.20</td>\n",
       "      <td>240.9000</td>\n",
       "      <td>231.6700</td>\n",
       "      <td>239.77</td>\n",
       "      <td>33178318</td>\n",
       "      <td>0.0</td>\n",
       "      <td>1.0</td>\n",
       "    </tr>\n",
       "    <tr>\n",
       "      <th>2020-05-27 00:00:00+00:00</th>\n",
       "      <td>229.14</td>\n",
       "      <td>230.5600</td>\n",
       "      <td>221.1347</td>\n",
       "      <td>229.07</td>\n",
       "      <td>34697553</td>\n",
       "      <td>229.14</td>\n",
       "      <td>230.5600</td>\n",
       "      <td>221.1347</td>\n",
       "      <td>229.07</td>\n",
       "      <td>34697553</td>\n",
       "      <td>0.0</td>\n",
       "      <td>1.0</td>\n",
       "    </tr>\n",
       "    <tr>\n",
       "      <th>2020-05-28 00:00:00+00:00</th>\n",
       "      <td>225.46</td>\n",
       "      <td>231.6332</td>\n",
       "      <td>224.0000</td>\n",
       "      <td>224.30</td>\n",
       "      <td>29423013</td>\n",
       "      <td>225.46</td>\n",
       "      <td>231.6332</td>\n",
       "      <td>224.0000</td>\n",
       "      <td>224.30</td>\n",
       "      <td>29423013</td>\n",
       "      <td>0.0</td>\n",
       "      <td>1.0</td>\n",
       "    </tr>\n",
       "    <tr>\n",
       "      <th>2020-05-29 00:00:00+00:00</th>\n",
       "      <td>225.09</td>\n",
       "      <td>227.4900</td>\n",
       "      <td>222.8800</td>\n",
       "      <td>225.20</td>\n",
       "      <td>23322476</td>\n",
       "      <td>225.09</td>\n",
       "      <td>227.4900</td>\n",
       "      <td>222.8800</td>\n",
       "      <td>225.20</td>\n",
       "      <td>23322476</td>\n",
       "      <td>0.0</td>\n",
       "      <td>1.0</td>\n",
       "    </tr>\n",
       "  </tbody>\n",
       "</table>\n",
       "</div>"
      ],
      "text/plain": [
       "                                   close      high       low    open  \\\n",
       "symbol date                                                            \n",
       "FB     2020-05-22 00:00:00+00:00  234.91  235.9900  228.7400  231.51   \n",
       "       2020-05-26 00:00:00+00:00  232.20  240.9000  231.6700  239.77   \n",
       "       2020-05-27 00:00:00+00:00  229.14  230.5600  221.1347  229.07   \n",
       "       2020-05-28 00:00:00+00:00  225.46  231.6332  224.0000  224.30   \n",
       "       2020-05-29 00:00:00+00:00  225.09  227.4900  222.8800  225.20   \n",
       "\n",
       "                                    volume  adjClose   adjHigh    adjLow  \\\n",
       "symbol date                                                                \n",
       "FB     2020-05-22 00:00:00+00:00  33925564    234.91  235.9900  228.7400   \n",
       "       2020-05-26 00:00:00+00:00  33178318    232.20  240.9000  231.6700   \n",
       "       2020-05-27 00:00:00+00:00  34697553    229.14  230.5600  221.1347   \n",
       "       2020-05-28 00:00:00+00:00  29423013    225.46  231.6332  224.0000   \n",
       "       2020-05-29 00:00:00+00:00  23322476    225.09  227.4900  222.8800   \n",
       "\n",
       "                                  adjOpen  adjVolume  divCash  splitFactor  \n",
       "symbol date                                                                 \n",
       "FB     2020-05-22 00:00:00+00:00   231.51   33925564      0.0          1.0  \n",
       "       2020-05-26 00:00:00+00:00   239.77   33178318      0.0          1.0  \n",
       "       2020-05-27 00:00:00+00:00   229.07   34697553      0.0          1.0  \n",
       "       2020-05-28 00:00:00+00:00   224.30   29423013      0.0          1.0  \n",
       "       2020-05-29 00:00:00+00:00   225.20   23322476      0.0          1.0  "
      ]
     },
     "execution_count": 72,
     "metadata": {},
     "output_type": "execute_result"
    }
   ],
   "source": [
    "df.tail()"
   ]
  },
  {
   "cell_type": "markdown",
   "metadata": {},
   "source": [
    "So, we got Apple stock data from 2015-06-01 to 2020-05-29. That's 5 years of stock data."
   ]
  },
  {
   "cell_type": "markdown",
   "metadata": {},
   "source": [
    "Now, we will use the Closing stock price for apple to do our prediction."
   ]
  },
  {
   "cell_type": "markdown",
   "metadata": {},
   "source": [
    "# Preprocessing"
   ]
  },
  {
   "cell_type": "code",
   "execution_count": 73,
   "metadata": {},
   "outputs": [
    {
     "data": {
      "text/plain": [
       "(1259,)"
      ]
     },
     "execution_count": 73,
     "metadata": {},
     "output_type": "execute_result"
    }
   ],
   "source": [
    "# indexing the data by the Closeing price\n",
    "df1 = df.reset_index()['close']\n",
    "df1.shape"
   ]
  },
  {
   "cell_type": "code",
   "execution_count": 74,
   "metadata": {},
   "outputs": [
    {
     "data": {
      "text/plain": [
       "0        80.290\n",
       "1        80.445\n",
       "2        82.440\n",
       "3        82.050\n",
       "4        82.140\n",
       "         ...   \n",
       "1254    234.910\n",
       "1255    232.200\n",
       "1256    229.140\n",
       "1257    225.460\n",
       "1258    225.090\n",
       "Name: close, Length: 1259, dtype: float64"
      ]
     },
     "execution_count": 74,
     "metadata": {},
     "output_type": "execute_result"
    }
   ],
   "source": [
    "df1"
   ]
  },
  {
   "cell_type": "code",
   "execution_count": 75,
   "metadata": {},
   "outputs": [
    {
     "data": {
      "text/plain": [
       "[<matplotlib.lines.Line2D at 0x29d8ff1c9c8>]"
      ]
     },
     "execution_count": 75,
     "metadata": {},
     "output_type": "execute_result"
    },
    {
     "data": {
      "image/png": "[encoded data removed]",
      "text/plain": [
       "<Figure size 432x288 with 1 Axes>"
      ]
     },
     "metadata": {
      "needs_background": "light"
     },
     "output_type": "display_data"
    }
   ],
   "source": [
    "# plotinng the closing prices\n",
    "plt.plot(df1)"
   ]
  },
  {
   "cell_type": "markdown",
   "metadata": {},
   "source": [
    "### LSTM are sensitive to the scale of the data. So, we apply MinMax Scaler here and scaling the data into (0, 1)"
   ]
  },
  {
   "cell_type": "code",
   "execution_count": 76,
   "metadata": {},
   "outputs": [
    {
     "data": {
      "text/plain": [
       "array([[0.        ],\n",
       "       [0.00100246],\n",
       "       [0.01390506],\n",
       "       ...,\n",
       "       [0.96268271],\n",
       "       [0.93888242],\n",
       "       [0.93648946]])"
      ]
     },
     "execution_count": 76,
     "metadata": {},
     "output_type": "execute_result"
    }
   ],
   "source": [
    "from sklearn.preprocessing import MinMaxScaler\n",
    "\n",
    "scaler = MinMaxScaler(feature_range = (0, 1))\n",
    "# reshaped the dataframe in order to fit and transform with the scaler\n",
    "df1 = scaler.fit_transform(np.array(df1).reshape(-1, 1))\n",
    "\n",
    "# looking at the data, which is an array now with values in between 0 and 1.\n",
    "df1 #or print(df1)"
   ]
  },
  {
   "cell_type": "code",
   "execution_count": 77,
   "metadata": {},
   "outputs": [
    {
     "data": {
      "text/plain": [
       "(1259, 1)"
      ]
     },
     "execution_count": 77,
     "metadata": {},
     "output_type": "execute_result"
    }
   ],
   "source": [
    "df1.shape"
   ]
  },
  {
   "cell_type": "markdown",
   "metadata": {},
   "source": [
    "### Important Note\n",
    "\n",
    "We can use methods such as (a) Cross Validation or (b) Random seed, etc. to train-test-split in case of regression and classification.\n",
    "\n",
    "But while dealing with time series data, we need to remember that the occurence on any date is dependent on the previous day. So, upto a certain date, we';; assign the data to the training set and the other part of the data into the testing set to keep the originality/ relation between the data point intact."
   ]
  },
  {
   "cell_type": "code",
   "execution_count": 78,
   "metadata": {},
   "outputs": [],
   "source": [
    "# train-test-split\n",
    "train_size = int(len(df1)*0.70)\n",
    "test_size = len(df1) - train_size\n",
    "\n",
    "train_data, test_data = df1[0: train_size,:], df1[train_size: len(df1), :1]"
   ]
  },
  {
   "cell_type": "code",
   "execution_count": 79,
   "metadata": {},
   "outputs": [
    {
     "data": {
      "text/plain": [
       "(881, 378)"
      ]
     },
     "execution_count": 79,
     "metadata": {},
     "output_type": "execute_result"
    }
   ],
   "source": [
    "# checking the sizes of the splits\n",
    "#len(train_size), len(test_size)\n",
    "# or simply as below\n",
    "train_size, test_size"
   ]
  },
  {
   "cell_type": "markdown",
   "metadata": {},
   "source": [
    "### Timesteps = n\n",
    "\n",
    "When timesteps is n, the model will take the previous n data points to predict for today"
   ]
  },
  {
   "cell_type": "code",
   "execution_count": 80,
   "metadata": {},
   "outputs": [],
   "source": [
    "# Timesteps Creation\n",
    "\n",
    "#convert an array of values into a dataset matrix\n",
    "def create_dataset(dataset, time_step = 1):\n",
    "    dataX, dataY = [], []\n",
    "    for i in range(len(dataset) - time_step - 1):\n",
    "        a = dataset[i: (i+time_step), 0]  # i =0, 0,1,2,3,..\n",
    "        dataX.append(a)\n",
    "        dataY.append(dataset[i + time_step, 0])\n",
    "    return np.array(dataX), np.array(dataY)"
   ]
  },
  {
   "cell_type": "code",
   "execution_count": 81,
   "metadata": {},
   "outputs": [],
   "source": [
    "# reshape into X=t, t+1, t+2, t+3 and Y=t+4\n",
    "time_step = 100 # considering last 100 days data to predict for today\n",
    "X_train, y_train = create_dataset(train_data, time_step)\n",
    "X_test, y_test = create_dataset(test_data, time_step)"
   ]
  },
  {
   "cell_type": "code",
   "execution_count": 82,
   "metadata": {},
   "outputs": [
    {
     "name": "stdout",
     "output_type": "stream",
     "text": [
      "[[0.         0.00100246 0.01390506 ... 0.11156383 0.11757858 0.1080714 ]\n",
      " [0.00100246 0.01390506 0.01138274 ... 0.11757858 0.1080714  0.10878282]\n",
      " [0.01390506 0.01138274 0.01196482 ... 0.1080714  0.10878282 0.12533954]\n",
      " ...\n",
      " [0.73748545 0.75714655 0.72720217 ... 0.41107231 0.38313284 0.33152244]\n",
      " [0.75714655 0.72720217 0.76419609 ... 0.38313284 0.33152244 0.33721381]\n",
      " [0.72720217 0.76419609 0.79511059 ... 0.33152244 0.33721381 0.35267106]]\n",
      "\n",
      "Length of X_train 780\n",
      "\n",
      "Length of X_test 277\n"
     ]
    }
   ],
   "source": [
    "print(X_train)\n",
    "print('\\nLength of X_train', len(X_train))\n",
    "print('\\nLength of X_test', len(X_test))"
   ]
  },
  {
   "cell_type": "code",
   "execution_count": 83,
   "metadata": {},
   "outputs": [
    {
     "name": "stdout",
     "output_type": "stream",
     "text": [
      "Shape of X_test (780, 100)\n",
      "Shape of y_test (780,)\n"
     ]
    }
   ],
   "source": [
    "print('Shape of X_test', X_train.shape)\n",
    "print('Shape of y_test', y_train.shape)"
   ]
  },
  {
   "cell_type": "code",
   "execution_count": 84,
   "metadata": {},
   "outputs": [
    {
     "name": "stdout",
     "output_type": "stream",
     "text": [
      "Shape of X_test (277, 100)\n",
      "Shape of y_test (277,)\n"
     ]
    }
   ],
   "source": [
    "print('Shape of X_test', X_test.shape)\n",
    "print('Shape of y_test', y_test.shape)"
   ]
  },
  {
   "cell_type": "code",
   "execution_count": 85,
   "metadata": {},
   "outputs": [],
   "source": [
    "# reshaping input to be [samples, time steps, features] which is required for LSTM\n",
    "# the last two dimensions i.e. 100 and 1 will be given as input to the LSTM\n",
    "X_train = X_train.reshape(X_train.shape[0], X_train.shape[1], 1) # i.e. 780, 100(timesteps), 1 (extra one dimension)\n",
    "X_test = X_test.reshape(X_test.shape[0], X_test.shape[1], 1)"
   ]
  },
  {
   "cell_type": "markdown",
   "metadata": {},
   "source": [
    "## Creating the Stacked LSTM model"
   ]
  },
  {
   "cell_type": "markdown",
   "metadata": {},
   "source": [
    "The Stacked model means we will add LSTM layers one after another."
   ]
  },
  {
   "cell_type": "code",
   "execution_count": 86,
   "metadata": {},
   "outputs": [],
   "source": [
    "# importing the libraries\n",
    "from tensorflow.keras.models import Sequential\n",
    "from tensorflow.keras.layers import Dense\n",
    "from tensorflow.keras.layers import LSTM"
   ]
  },
  {
   "cell_type": "code",
   "execution_count": 87,
   "metadata": {},
   "outputs": [],
   "source": [
    "model = Sequential()\n",
    "model.add(LSTM(50, return_sequences = True, input_shape = (100,1)))\n",
    "model.add(LSTM(50, return_sequences = True))\n",
    "model.add(LSTM(50))\n",
    "model.add(Dense(1))\n",
    "\n",
    "model.compile(loss='mean_squared_error', optimizer = 'adam')"
   ]
  },
  {
   "cell_type": "code",
   "execution_count": 88,
   "metadata": {},
   "outputs": [
    {
     "name": "stdout",
     "output_type": "stream",
     "text": [
      "Model: \"sequential_4\"\n",
      "_________________________________________________________________\n",
      "Layer (type)                 Output Shape              Param #   \n",
      "=================================================================\n",
      "lstm_9 (LSTM)                (None, 100, 50)           10400     \n",
      "_________________________________________________________________\n",
      "lstm_10 (LSTM)               (None, 100, 50)           20200     \n",
      "_________________________________________________________________\n",
      "lstm_11 (LSTM)               (None, 50)                20200     \n",
      "_________________________________________________________________\n",
      "dense_3 (Dense)              (None, 1)                 51        \n",
      "=================================================================\n",
      "Total params: 50,851\n",
      "Trainable params: 50,851\n",
      "Non-trainable params: 0\n",
      "_________________________________________________________________\n"
     ]
    }
   ],
   "source": [
    "model.summary()"
   ]
  },
  {
   "cell_type": "code",
   "execution_count": 89,
   "metadata": {},
   "outputs": [
    {
     "name": "stdout",
     "output_type": "stream",
     "text": [
      "Train on 780 samples, validate on 277 samples\n",
      "Epoch 1/100\n",
      "780/780 [==============================] - 23s 30ms/sample - loss: 0.0614 - val_loss: 0.0508\n",
      "Epoch 2/100\n",
      "780/780 [==============================] - 7s 9ms/sample - loss: 0.0105 - val_loss: 0.0082\n",
      "Epoch 3/100\n",
      "780/780 [==============================] - 7s 9ms/sample - loss: 0.0040 - val_loss: 0.0096\n",
      "Epoch 4/100\n",
      "780/780 [==============================] - 7s 10ms/sample - loss: 0.0023 - val_loss: 0.0108\n",
      "Epoch 5/100\n",
      "780/780 [==============================] - 7s 9ms/sample - loss: 0.0022 - val_loss: 0.0093\n",
      "Epoch 6/100\n",
      "780/780 [==============================] - 7s 9ms/sample - loss: 0.0022 - val_loss: 0.0083\n",
      "Epoch 7/100\n",
      "780/780 [==============================] - 7s 9ms/sample - loss: 0.0022 - val_loss: 0.0080\n",
      "Epoch 8/100\n",
      "780/780 [==============================] - 7s 9ms/sample - loss: 0.0019 - val_loss: 0.0082\n",
      "Epoch 9/100\n",
      "780/780 [==============================] - 7s 9ms/sample - loss: 0.0020 - val_loss: 0.0086\n",
      "Epoch 10/100\n",
      "780/780 [==============================] - 8s 10ms/sample - loss: 0.0019 - val_loss: 0.0077\n",
      "Epoch 11/100\n",
      "780/780 [==============================] - 8s 10ms/sample - loss: 0.0019 - val_loss: 0.0071\n",
      "Epoch 12/100\n",
      "780/780 [==============================] - 8s 10ms/sample - loss: 0.0018 - val_loss: 0.0090\n",
      "Epoch 13/100\n",
      "780/780 [==============================] - 8s 10ms/sample - loss: 0.0018 - val_loss: 0.0075\n",
      "Epoch 14/100\n",
      "780/780 [==============================] - 8s 10ms/sample - loss: 0.0018 - val_loss: 0.0080\n",
      "Epoch 15/100\n",
      "780/780 [==============================] - 7s 9ms/sample - loss: 0.0017 - val_loss: 0.0069\n",
      "Epoch 16/100\n",
      "780/780 [==============================] - 7s 9ms/sample - loss: 0.0016 - val_loss: 0.0056\n",
      "Epoch 17/100\n",
      "780/780 [==============================] - 7s 9ms/sample - loss: 0.0016 - val_loss: 0.0083\n",
      "Epoch 18/100\n",
      "780/780 [==============================] - 6s 7ms/sample - loss: 0.0019 - val_loss: 0.0059\n",
      "Epoch 19/100\n",
      "780/780 [==============================] - 7s 9ms/sample - loss: 0.0017 - val_loss: 0.0048\n",
      "Epoch 20/100\n",
      "780/780 [==============================] - 7s 9ms/sample - loss: 0.0017 - val_loss: 0.0059\n",
      "Epoch 21/100\n",
      "780/780 [==============================] - 7s 9ms/sample - loss: 0.0016 - val_loss: 0.0047\n",
      "Epoch 22/100\n",
      "780/780 [==============================] - 8s 10ms/sample - loss: 0.0017 - val_loss: 0.0049\n",
      "Epoch 23/100\n",
      "780/780 [==============================] - 7s 9ms/sample - loss: 0.0019 - val_loss: 0.0056\n",
      "Epoch 24/100\n",
      "780/780 [==============================] - 7s 9ms/sample - loss: 0.0016 - val_loss: 0.0043\n",
      "Epoch 25/100\n",
      "780/780 [==============================] - 7s 10ms/sample - loss: 0.0015 - val_loss: 0.0056\n",
      "Epoch 26/100\n",
      "780/780 [==============================] - 8s 10ms/sample - loss: 0.0015 - val_loss: 0.0041\n",
      "Epoch 27/100\n",
      "780/780 [==============================] - 7s 9ms/sample - loss: 0.0014 - val_loss: 0.0044\n",
      "Epoch 28/100\n",
      "780/780 [==============================] - 7s 9ms/sample - loss: 0.0014 - val_loss: 0.0050\n",
      "Epoch 29/100\n",
      "780/780 [==============================] - 8s 10ms/sample - loss: 0.0014 - val_loss: 0.0039\n",
      "Epoch 30/100\n",
      "780/780 [==============================] - 8s 10ms/sample - loss: 0.0014 - val_loss: 0.0048\n",
      "Epoch 31/100\n",
      "780/780 [==============================] - 8s 10ms/sample - loss: 0.0014 - val_loss: 0.0038\n",
      "Epoch 32/100\n",
      "780/780 [==============================] - 8s 10ms/sample - loss: 0.0014 - val_loss: 0.0038\n",
      "Epoch 33/100\n",
      "780/780 [==============================] - 7s 10ms/sample - loss: 0.0013 - val_loss: 0.0049\n",
      "Epoch 34/100\n",
      "780/780 [==============================] - 7s 10ms/sample - loss: 0.0014 - val_loss: 0.0037\n",
      "Epoch 35/100\n",
      "780/780 [==============================] - 7s 9ms/sample - loss: 0.0016 - val_loss: 0.0054\n",
      "Epoch 36/100\n",
      "780/780 [==============================] - 7s 9ms/sample - loss: 0.0013 - val_loss: 0.0035\n",
      "Epoch 37/100\n",
      "780/780 [==============================] - 8s 10ms/sample - loss: 0.0014 - val_loss: 0.0049\n",
      "Epoch 38/100\n",
      "780/780 [==============================] - 7s 10ms/sample - loss: 0.0014 - val_loss: 0.0037\n",
      "Epoch 39/100\n",
      "780/780 [==============================] - 8s 10ms/sample - loss: 0.0014 - val_loss: 0.0047\n",
      "Epoch 40/100\n",
      "780/780 [==============================] - 8s 10ms/sample - loss: 0.0013 - val_loss: 0.0057\n",
      "Epoch 41/100\n",
      "780/780 [==============================] - 7s 10ms/sample - loss: 0.0013 - val_loss: 0.0051\n",
      "Epoch 42/100\n",
      "780/780 [==============================] - 7s 10ms/sample - loss: 0.0013 - val_loss: 0.0043\n",
      "Epoch 43/100\n",
      "780/780 [==============================] - 7s 9ms/sample - loss: 0.0013 - val_loss: 0.0031\n",
      "Epoch 44/100\n",
      "780/780 [==============================] - 7s 9ms/sample - loss: 0.0012 - val_loss: 0.0038\n",
      "Epoch 45/100\n",
      "780/780 [==============================] - 7s 10ms/sample - loss: 0.0012 - val_loss: 0.0036\n",
      "Epoch 46/100\n",
      "780/780 [==============================] - 7s 9ms/sample - loss: 0.0012 - val_loss: 0.0051\n",
      "Epoch 47/100\n",
      "780/780 [==============================] - 7s 10ms/sample - loss: 0.0013 - val_loss: 0.0039\n",
      "Epoch 48/100\n",
      "780/780 [==============================] - 8s 10ms/sample - loss: 0.0012 - val_loss: 0.0039\n",
      "Epoch 49/100\n",
      "780/780 [==============================] - 8s 10ms/sample - loss: 0.0012 - val_loss: 0.0035\n",
      "Epoch 50/100\n",
      "780/780 [==============================] - 8s 10ms/sample - loss: 0.0013 - val_loss: 0.0031\n",
      "Epoch 51/100\n",
      "780/780 [==============================] - 8s 10ms/sample - loss: 0.0012 - val_loss: 0.0055\n",
      "Epoch 52/100\n",
      "780/780 [==============================] - 8s 10ms/sample - loss: 0.0012 - val_loss: 0.0034\n",
      "Epoch 53/100\n",
      "780/780 [==============================] - 8s 10ms/sample - loss: 0.0014 - val_loss: 0.0033\n",
      "Epoch 54/100\n",
      "780/780 [==============================] - 7s 9ms/sample - loss: 0.0012 - val_loss: 0.0041\n",
      "Epoch 55/100\n",
      "780/780 [==============================] - 7s 9ms/sample - loss: 0.0013 - val_loss: 0.0027\n",
      "Epoch 56/100\n",
      "780/780 [==============================] - 8s 10ms/sample - loss: 0.0014 - val_loss: 0.0044\n",
      "Epoch 57/100\n",
      "780/780 [==============================] - 8s 10ms/sample - loss: 0.0011 - val_loss: 0.0036\n",
      "Epoch 58/100\n",
      "780/780 [==============================] - 8s 10ms/sample - loss: 0.0013 - val_loss: 0.0025\n",
      "Epoch 59/100\n",
      "780/780 [==============================] - 8s 10ms/sample - loss: 0.0012 - val_loss: 0.0031\n",
      "Epoch 60/100\n",
      "780/780 [==============================] - 7s 9ms/sample - loss: 0.0011 - val_loss: 0.0046\n",
      "Epoch 61/100\n",
      "780/780 [==============================] - 7s 9ms/sample - loss: 0.0011 - val_loss: 0.0024\n",
      "Epoch 62/100\n",
      "780/780 [==============================] - 8s 10ms/sample - loss: 0.0012 - val_loss: 0.0048\n",
      "Epoch 63/100\n",
      "780/780 [==============================] - 8s 10ms/sample - loss: 0.0011 - val_loss: 0.0031\n",
      "Epoch 64/100\n",
      "780/780 [==============================] - 8s 10ms/sample - loss: 0.0011 - val_loss: 0.0038\n",
      "Epoch 65/100\n",
      "780/780 [==============================] - 8s 10ms/sample - loss: 0.0011 - val_loss: 0.0025\n",
      "Epoch 66/100\n",
      "780/780 [==============================] - 8s 10ms/sample - loss: 0.0011 - val_loss: 0.0028\n",
      "Epoch 67/100\n",
      "780/780 [==============================] - 8s 10ms/sample - loss: 0.0015 - val_loss: 0.0037\n",
      "Epoch 68/100\n",
      "780/780 [==============================] - 8s 10ms/sample - loss: 0.0011 - val_loss: 0.0034\n",
      "Epoch 69/100\n",
      "780/780 [==============================] - 8s 10ms/sample - loss: 9.7180e-04 - val_loss: 0.0031\n",
      "Epoch 70/100\n",
      "780/780 [==============================] - 8s 10ms/sample - loss: 9.4576e-04 - val_loss: 0.0031\n",
      "Epoch 71/100\n",
      "780/780 [==============================] - 8s 10ms/sample - loss: 9.4033e-04 - val_loss: 0.0028\n",
      "Epoch 72/100\n",
      "780/780 [==============================] - 8s 10ms/sample - loss: 9.1129e-04 - val_loss: 0.0024\n",
      "Epoch 73/100\n",
      "780/780 [==============================] - 8s 10ms/sample - loss: 9.4082e-04 - val_loss: 0.0027\n",
      "Epoch 74/100\n",
      "780/780 [==============================] - 8s 10ms/sample - loss: 9.3584e-04 - val_loss: 0.0034\n",
      "Epoch 75/100\n",
      "780/780 [==============================] - 8s 10ms/sample - loss: 9.3477e-04 - val_loss: 0.0046\n",
      "Epoch 76/100\n",
      "780/780 [==============================] - 8s 10ms/sample - loss: 9.6808e-04 - val_loss: 0.0024\n",
      "Epoch 77/100\n",
      "780/780 [==============================] - 8s 10ms/sample - loss: 9.0223e-04 - val_loss: 0.0023\n",
      "Epoch 78/100\n",
      "780/780 [==============================] - 8s 10ms/sample - loss: 8.4801e-04 - val_loss: 0.0033\n",
      "Epoch 79/100\n",
      "780/780 [==============================] - 7s 9ms/sample - loss: 8.6948e-04 - val_loss: 0.0027\n",
      "Epoch 80/100\n",
      "780/780 [==============================] - 8s 10ms/sample - loss: 8.6758e-04 - val_loss: 0.0020\n",
      "Epoch 81/100\n",
      "780/780 [==============================] - 8s 10ms/sample - loss: 8.1639e-04 - val_loss: 0.0027\n",
      "Epoch 82/100\n",
      "780/780 [==============================] - 8s 10ms/sample - loss: 8.8026e-04 - val_loss: 0.0021\n",
      "Epoch 83/100\n",
      "780/780 [==============================] - 8s 10ms/sample - loss: 0.0010 - val_loss: 0.0028\n",
      "Epoch 84/100\n",
      "780/780 [==============================] - 8s 10ms/sample - loss: 8.6256e-04 - val_loss: 0.0019\n",
      "Epoch 85/100\n",
      "780/780 [==============================] - 8s 10ms/sample - loss: 7.6708e-04 - val_loss: 0.0030\n",
      "Epoch 86/100\n",
      "780/780 [==============================] - 8s 10ms/sample - loss: 7.6901e-04 - val_loss: 0.0024\n",
      "Epoch 87/100\n",
      "780/780 [==============================] - 8s 10ms/sample - loss: 7.2700e-04 - val_loss: 0.0023\n",
      "Epoch 88/100\n",
      "780/780 [==============================] - 8s 10ms/sample - loss: 8.0780e-04 - val_loss: 0.0017\n",
      "Epoch 89/100\n",
      "780/780 [==============================] - 8s 10ms/sample - loss: 7.0985e-04 - val_loss: 0.0021\n",
      "Epoch 90/100\n",
      "780/780 [==============================] - 8s 10ms/sample - loss: 6.8682e-04 - val_loss: 0.0025\n",
      "Epoch 91/100\n",
      "780/780 [==============================] - 8s 10ms/sample - loss: 6.9880e-04 - val_loss: 0.0017\n",
      "Epoch 92/100\n",
      "780/780 [==============================] - 8s 10ms/sample - loss: 6.7986e-04 - val_loss: 0.0019\n",
      "Epoch 93/100\n",
      "780/780 [==============================] - 8s 10ms/sample - loss: 6.7945e-04 - val_loss: 0.0019\n",
      "Epoch 94/100\n",
      "780/780 [==============================] - 8s 10ms/sample - loss: 6.4273e-04 - val_loss: 0.0015\n",
      "Epoch 95/100\n",
      "780/780 [==============================] - 8s 10ms/sample - loss: 7.3412e-04 - val_loss: 0.0018\n",
      "Epoch 96/100\n",
      "780/780 [==============================] - 8s 10ms/sample - loss: 6.7004e-04 - val_loss: 0.0015\n",
      "Epoch 97/100\n",
      "780/780 [==============================] - 8s 10ms/sample - loss: 6.6363e-04 - val_loss: 0.0015\n",
      "Epoch 98/100\n",
      "780/780 [==============================] - 8s 10ms/sample - loss: 5.9933e-04 - val_loss: 0.0029\n",
      "Epoch 99/100\n",
      "780/780 [==============================] - 8s 10ms/sample - loss: 6.0820e-04 - val_loss: 0.0017\n",
      "Epoch 100/100\n",
      "780/780 [==============================] - 8s 10ms/sample - loss: 5.9906e-04 - val_loss: 0.0027\n"
     ]
    },
    {
     "data": {
      "text/plain": [
       "<tensorflow.python.keras.callbacks.History at 0x29da43a47c8>"
      ]
     },
     "execution_count": 89,
     "metadata": {},
     "output_type": "execute_result"
    }
   ],
   "source": [
    "# fitting the model\n",
    "model.fit(X_train, y_train, validation_data=(X_test, y_test),\n",
    "          epochs = 100, batch_size = 64, verbose=1)"
   ]
  },
  {
   "cell_type": "markdown",
   "metadata": {},
   "source": [
    "## Prediction and ploting of the outputs"
   ]
  },
  {
   "cell_type": "code",
   "execution_count": 90,
   "metadata": {},
   "outputs": [],
   "source": [
    "# prediction and performance metrics\n",
    "train_predict = model.predict(X_train)\n",
    "test_predict = model.predict(X_test)"
   ]
  },
  {
   "cell_type": "code",
   "execution_count": 91,
   "metadata": {},
   "outputs": [],
   "source": [
    "# transform back the scaled data to original form to calculat RMSE\n",
    "train_predict = scaler.inverse_transform(train_predict)\n",
    "test_predict = scaler.inverse_transform(test_predict)"
   ]
  },
  {
   "cell_type": "code",
   "execution_count": 92,
   "metadata": {},
   "outputs": [
    {
     "data": {
      "text/plain": [
       "147.25214406807854"
      ]
     },
     "execution_count": 92,
     "metadata": {},
     "output_type": "execute_result"
    }
   ],
   "source": [
    "# Calculate RMSE performance metrics for the train data\n",
    "import math\n",
    "from sklearn.metrics import mean_squared_error\n",
    "math.sqrt(mean_squared_error(y_train, train_predict))"
   ]
  },
  {
   "cell_type": "code",
   "execution_count": 93,
   "metadata": {},
   "outputs": [
    {
     "data": {
      "text/plain": [
       "186.37150239878756"
      ]
     },
     "execution_count": 93,
     "metadata": {},
     "output_type": "execute_result"
    }
   ],
   "source": [
    "# RMSE for the test data\n",
    "math.sqrt(mean_squared_error(y_test, test_predict))"
   ]
  },
  {
   "cell_type": "code",
   "execution_count": 94,
   "metadata": {},
   "outputs": [
    {
     "data": {
      "image/png": "[encoded data removed]",
      "text/plain": [
       "<Figure size 432x288 with 1 Axes>"
      ]
     },
     "metadata": {
      "needs_background": "light"
     },
     "output_type": "display_data"
    }
   ],
   "source": [
    "## Plotting\n",
    "# Shift train predictions for plotting\n",
    "look_back = 100\n",
    "trainPredictPlot = np.empty_like(df1) #returns a similar array of same shape and type as the input\n",
    "trainPredictPlot[:, :] = np.nan\n",
    "trainPredictPlot[look_back:len(train_predict) + look_back, :] = train_predict #ploting train_predict\n",
    "\n",
    "# Shift test predictions for plotting\n",
    "testPredictPlot = np.empty_like(df1) #returns a similar array of same shape and type as the input\n",
    "testPredictPlot[:, :] = np.nan\n",
    "testPredictPlot[len(train_predict) + (look_back*2) + 1:len(df1) -1, :] = test_predict # ploting test_predict\n",
    "\n",
    "# plot baseline and predictions\n",
    "plt.plot(scaler.inverse_transform(df1)) ## Very important step\n",
    "plt.plot(trainPredictPlot)\n",
    "plt.plot(testPredictPlot)\n",
    "plt.show()\n",
    "\n",
    "# Green color = test data prediction output\n",
    "# orange color = training data prediction output\n",
    "# Blue color = the complete dataset"
   ]
  },
  {
   "cell_type": "markdown",
   "metadata": {},
   "source": [
    "# Predicting for the next 30 days Closing Stock Price"
   ]
  },
  {
   "cell_type": "code",
   "execution_count": 95,
   "metadata": {},
   "outputs": [
    {
     "data": {
      "text/plain": [
       "378"
      ]
     },
     "execution_count": 95,
     "metadata": {},
     "output_type": "execute_result"
    }
   ],
   "source": [
    "# Number of data points in the test set\n",
    "len(test_data)"
   ]
  },
  {
   "cell_type": "markdown",
   "metadata": {},
   "source": [
    "Our data covered the Closing stock price upto 29 May 2020. If we predict for 30th May 2020, then we will need the previous 100 days data. So, we will consider the data from 278 days (i.e. 378-100) onwards."
   ]
  },
  {
   "cell_type": "code",
   "execution_count": 96,
   "metadata": {},
   "outputs": [
    {
     "data": {
      "text/plain": [
       "(1, 100)"
      ]
     },
     "execution_count": 96,
     "metadata": {},
     "output_type": "execute_result"
    }
   ],
   "source": [
    "x_input = test_data[278:].reshape(1, -1)\n",
    "x_input.shape\n",
    "# we got the required 100 days data now"
   ]
  },
  {
   "cell_type": "code",
   "execution_count": 97,
   "metadata": {},
   "outputs": [],
   "source": [
    "# creating a list to store the values of the test_data for the previous 100 days\n",
    "temp_input = list(x_input)\n",
    "temp_input = temp_input[0].tolist()"
   ]
  },
  {
   "cell_type": "code",
   "execution_count": 98,
   "metadata": {},
   "outputs": [
    {
     "name": "stdout",
     "output_type": "stream",
     "text": [
      "[0.85109067]\n",
      "101\n",
      "1 day input [0.87265554 0.89257535 0.89102315 0.91592291 0.89749062 0.91100763\n",
      " 0.91501746 0.91741043 0.9128832  0.9121071  0.90201785 0.89024706\n",
      " 0.87039193 0.88927694 0.92445997 0.83585565 0.78657354 0.80131936\n",
      " 0.83779589 0.83960678 0.8443927  0.85396456 0.85868581 0.82072177\n",
      " 0.84381063 0.85920321 0.86592938 0.88934161 0.8873367  0.86851636\n",
      " 0.8400595  0.77887725 0.75333075 0.75611176 0.70792912 0.72552063\n",
      " 0.75119648 0.68296469 0.72092873 0.67830811 0.65192084 0.57696288\n",
      " 0.63316518 0.5817488  0.47975682 0.5820075  0.42504204 0.44709611\n",
      " 0.43118613 0.47109042 0.44910102 0.43855905 0.52186004 0.49101022\n",
      " 0.53712327 0.49476135 0.55400336 0.55950071 0.51293494 0.50381581\n",
      " 0.47788126 0.55141638 0.57262967 0.60787738 0.61376277 0.61117579\n",
      " 0.63303583 0.62527487 0.62061829 0.63995602 0.63348855 0.58537059\n",
      " 0.65961713 0.67804941 0.70999871 0.69337731 0.66369163 0.73664468\n",
      " 0.80468245 0.78890182 0.80823956 0.81994567 0.82900013 0.84704437\n",
      " 0.85409391 0.85946191 0.8395421  0.80720476 0.81826413 0.84458673\n",
      " 0.85952658 0.88339154 0.9680507  0.97723451 1.         0.98247316\n",
      " 0.96268271 0.93888242 0.93648946 0.85109067]\n",
      "1 day output[[0.8190165]]\n",
      "2 day input [0.89257535 0.89102315 0.91592291 0.89749062 0.91100763 0.91501746\n",
      " 0.91741043 0.9128832  0.9121071  0.90201785 0.89024706 0.87039193\n",
      " 0.88927694 0.92445997 0.83585565 0.78657354 0.80131936 0.83779589\n",
      " 0.83960678 0.8443927  0.85396456 0.85868581 0.82072177 0.84381063\n",
      " 0.85920321 0.86592938 0.88934161 0.8873367  0.86851636 0.8400595\n",
      " 0.77887725 0.75333075 0.75611176 0.70792912 0.72552063 0.75119648\n",
      " 0.68296469 0.72092873 0.67830811 0.65192084 0.57696288 0.63316518\n",
      " 0.5817488  0.47975682 0.5820075  0.42504204 0.44709611 0.43118613\n",
      " 0.47109042 0.44910102 0.43855905 0.52186004 0.49101022 0.53712327\n",
      " 0.49476135 0.55400336 0.55950071 0.51293494 0.50381581 0.47788126\n",
      " 0.55141638 0.57262967 0.60787738 0.61376277 0.61117579 0.63303583\n",
      " 0.62527487 0.62061829 0.63995602 0.63348855 0.58537059 0.65961713\n",
      " 0.67804941 0.70999871 0.69337731 0.66369163 0.73664468 0.80468245\n",
      " 0.78890182 0.80823956 0.81994567 0.82900013 0.84704437 0.85409391\n",
      " 0.85946191 0.8395421  0.80720476 0.81826413 0.84458673 0.85952658\n",
      " 0.88339154 0.9680507  0.97723451 1.         0.98247316 0.96268271\n",
      " 0.93888242 0.93648946 0.85109067 0.81901652]\n",
      "2 day output[[0.7869652]]\n",
      "3 day input [0.89102315 0.91592291 0.89749062 0.91100763 0.91501746 0.91741043\n",
      " 0.9128832  0.9121071  0.90201785 0.89024706 0.87039193 0.88927694\n",
      " 0.92445997 0.83585565 0.78657354 0.80131936 0.83779589 0.83960678\n",
      " 0.8443927  0.85396456 0.85868581 0.82072177 0.84381063 0.85920321\n",
      " 0.86592938 0.88934161 0.8873367  0.86851636 0.8400595  0.77887725\n",
      " 0.75333075 0.75611176 0.70792912 0.72552063 0.75119648 0.68296469\n",
      " 0.72092873 0.67830811 0.65192084 0.57696288 0.63316518 0.5817488\n",
      " 0.47975682 0.5820075  0.42504204 0.44709611 0.43118613 0.47109042\n",
      " 0.44910102 0.43855905 0.52186004 0.49101022 0.53712327 0.49476135\n",
      " 0.55400336 0.55950071 0.51293494 0.50381581 0.47788126 0.55141638\n",
      " 0.57262967 0.60787738 0.61376277 0.61117579 0.63303583 0.62527487\n",
      " 0.62061829 0.63995602 0.63348855 0.58537059 0.65961713 0.67804941\n",
      " 0.70999871 0.69337731 0.66369163 0.73664468 0.80468245 0.78890182\n",
      " 0.80823956 0.81994567 0.82900013 0.84704437 0.85409391 0.85946191\n",
      " 0.8395421  0.80720476 0.81826413 0.84458673 0.85952658 0.88339154\n",
      " 0.9680507  0.97723451 1.         0.98247316 0.96268271 0.93888242\n",
      " 0.93648946 0.85109067 0.81901652 0.78696519]\n",
      "3 day output[[0.7626203]]\n",
      "4 day input [0.91592291 0.89749062 0.91100763 0.91501746 0.91741043 0.9128832\n",
      " 0.9121071  0.90201785 0.89024706 0.87039193 0.88927694 0.92445997\n",
      " 0.83585565 0.78657354 0.80131936 0.83779589 0.83960678 0.8443927\n",
      " 0.85396456 0.85868581 0.82072177 0.84381063 0.85920321 0.86592938\n",
      " 0.88934161 0.8873367  0.86851636 0.8400595  0.77887725 0.75333075\n",
      " 0.75611176 0.70792912 0.72552063 0.75119648 0.68296469 0.72092873\n",
      " 0.67830811 0.65192084 0.57696288 0.63316518 0.5817488  0.47975682\n",
      " 0.5820075  0.42504204 0.44709611 0.43118613 0.47109042 0.44910102\n",
      " 0.43855905 0.52186004 0.49101022 0.53712327 0.49476135 0.55400336\n",
      " 0.55950071 0.51293494 0.50381581 0.47788126 0.55141638 0.57262967\n",
      " 0.60787738 0.61376277 0.61117579 0.63303583 0.62527487 0.62061829\n",
      " 0.63995602 0.63348855 0.58537059 0.65961713 0.67804941 0.70999871\n",
      " 0.69337731 0.66369163 0.73664468 0.80468245 0.78890182 0.80823956\n",
      " 0.81994567 0.82900013 0.84704437 0.85409391 0.85946191 0.8395421\n",
      " 0.80720476 0.81826413 0.84458673 0.85952658 0.88339154 0.9680507\n",
      " 0.97723451 1.         0.98247316 0.96268271 0.93888242 0.93648946\n",
      " 0.85109067 0.81901652 0.78696519 0.76262027]\n",
      "4 day output[[0.74824816]]\n",
      "5 day input [0.89749062 0.91100763 0.91501746 0.91741043 0.9128832  0.9121071\n",
      " 0.90201785 0.89024706 0.87039193 0.88927694 0.92445997 0.83585565\n",
      " 0.78657354 0.80131936 0.83779589 0.83960678 0.8443927  0.85396456\n",
      " 0.85868581 0.82072177 0.84381063 0.85920321 0.86592938 0.88934161\n",
      " 0.8873367  0.86851636 0.8400595  0.77887725 0.75333075 0.75611176\n",
      " 0.70792912 0.72552063 0.75119648 0.68296469 0.72092873 0.67830811\n",
      " 0.65192084 0.57696288 0.63316518 0.5817488  0.47975682 0.5820075\n",
      " 0.42504204 0.44709611 0.43118613 0.47109042 0.44910102 0.43855905\n",
      " 0.52186004 0.49101022 0.53712327 0.49476135 0.55400336 0.55950071\n",
      " 0.51293494 0.50381581 0.47788126 0.55141638 0.57262967 0.60787738\n",
      " 0.61376277 0.61117579 0.63303583 0.62527487 0.62061829 0.63995602\n",
      " 0.63348855 0.58537059 0.65961713 0.67804941 0.70999871 0.69337731\n",
      " 0.66369163 0.73664468 0.80468245 0.78890182 0.80823956 0.81994567\n",
      " 0.82900013 0.84704437 0.85409391 0.85946191 0.8395421  0.80720476\n",
      " 0.81826413 0.84458673 0.85952658 0.88339154 0.9680507  0.97723451\n",
      " 1.         0.98247316 0.96268271 0.93888242 0.93648946 0.85109067\n",
      " 0.81901652 0.78696519 0.76262027 0.74824816]\n",
      "5 day output[[0.7425071]]\n",
      "6 day input [0.91100763 0.91501746 0.91741043 0.9128832  0.9121071  0.90201785\n",
      " 0.89024706 0.87039193 0.88927694 0.92445997 0.83585565 0.78657354\n",
      " 0.80131936 0.83779589 0.83960678 0.8443927  0.85396456 0.85868581\n",
      " 0.82072177 0.84381063 0.85920321 0.86592938 0.88934161 0.8873367\n",
      " 0.86851636 0.8400595  0.77887725 0.75333075 0.75611176 0.70792912\n",
      " 0.72552063 0.75119648 0.68296469 0.72092873 0.67830811 0.65192084\n",
      " 0.57696288 0.63316518 0.5817488  0.47975682 0.5820075  0.42504204\n",
      " 0.44709611 0.43118613 0.47109042 0.44910102 0.43855905 0.52186004\n",
      " 0.49101022 0.53712327 0.49476135 0.55400336 0.55950071 0.51293494\n",
      " 0.50381581 0.47788126 0.55141638 0.57262967 0.60787738 0.61376277\n",
      " 0.61117579 0.63303583 0.62527487 0.62061829 0.63995602 0.63348855\n",
      " 0.58537059 0.65961713 0.67804941 0.70999871 0.69337731 0.66369163\n",
      " 0.73664468 0.80468245 0.78890182 0.80823956 0.81994567 0.82900013\n",
      " 0.84704437 0.85409391 0.85946191 0.8395421  0.80720476 0.81826413\n",
      " 0.84458673 0.85952658 0.88339154 0.9680507  0.97723451 1.\n",
      " 0.98247316 0.96268271 0.93888242 0.93648946 0.85109067 0.81901652\n",
      " 0.78696519 0.76262027 0.74824816 0.7425071 ]\n",
      "6 day output[[0.742574]]\n",
      "7 day input [0.91501746 0.91741043 0.9128832  0.9121071  0.90201785 0.89024706\n",
      " 0.87039193 0.88927694 0.92445997 0.83585565 0.78657354 0.80131936\n",
      " 0.83779589 0.83960678 0.8443927  0.85396456 0.85868581 0.82072177\n",
      " 0.84381063 0.85920321 0.86592938 0.88934161 0.8873367  0.86851636\n",
      " 0.8400595  0.77887725 0.75333075 0.75611176 0.70792912 0.72552063\n",
      " 0.75119648 0.68296469 0.72092873 0.67830811 0.65192084 0.57696288\n",
      " 0.63316518 0.5817488  0.47975682 0.5820075  0.42504204 0.44709611\n",
      " 0.43118613 0.47109042 0.44910102 0.43855905 0.52186004 0.49101022\n",
      " 0.53712327 0.49476135 0.55400336 0.55950071 0.51293494 0.50381581\n",
      " 0.47788126 0.55141638 0.57262967 0.60787738 0.61376277 0.61117579\n",
      " 0.63303583 0.62527487 0.62061829 0.63995602 0.63348855 0.58537059\n",
      " 0.65961713 0.67804941 0.70999871 0.69337731 0.66369163 0.73664468\n",
      " 0.80468245 0.78890182 0.80823956 0.81994567 0.82900013 0.84704437\n",
      " 0.85409391 0.85946191 0.8395421  0.80720476 0.81826413 0.84458673\n",
      " 0.85952658 0.88339154 0.9680507  0.97723451 1.         0.98247316\n",
      " 0.96268271 0.93888242 0.93648946 0.85109067 0.81901652 0.78696519\n",
      " 0.76262027 0.74824816 0.7425071  0.74257398]\n",
      "7 day output[[0.7454065]]\n",
      "8 day input [0.91741043 0.9128832  0.9121071  0.90201785 0.89024706 0.87039193\n",
      " 0.88927694 0.92445997 0.83585565 0.78657354 0.80131936 0.83779589\n",
      " 0.83960678 0.8443927  0.85396456 0.85868581 0.82072177 0.84381063\n",
      " 0.85920321 0.86592938 0.88934161 0.8873367  0.86851636 0.8400595\n",
      " 0.77887725 0.75333075 0.75611176 0.70792912 0.72552063 0.75119648\n",
      " 0.68296469 0.72092873 0.67830811 0.65192084 0.57696288 0.63316518\n",
      " 0.5817488  0.47975682 0.5820075  0.42504204 0.44709611 0.43118613\n",
      " 0.47109042 0.44910102 0.43855905 0.52186004 0.49101022 0.53712327\n",
      " 0.49476135 0.55400336 0.55950071 0.51293494 0.50381581 0.47788126\n",
      " 0.55141638 0.57262967 0.60787738 0.61376277 0.61117579 0.63303583\n",
      " 0.62527487 0.62061829 0.63995602 0.63348855 0.58537059 0.65961713\n",
      " 0.67804941 0.70999871 0.69337731 0.66369163 0.73664468 0.80468245\n",
      " 0.78890182 0.80823956 0.81994567 0.82900013 0.84704437 0.85409391\n",
      " 0.85946191 0.8395421  0.80720476 0.81826413 0.84458673 0.85952658\n",
      " 0.88339154 0.9680507  0.97723451 1.         0.98247316 0.96268271\n",
      " 0.93888242 0.93648946 0.85109067 0.81901652 0.78696519 0.76262027\n",
      " 0.74824816 0.7425071  0.74257398 0.74540651]\n",
      "8 day output[[0.7483035]]\n",
      "9 day input [0.9128832  0.9121071  0.90201785 0.89024706 0.87039193 0.88927694\n",
      " 0.92445997 0.83585565 0.78657354 0.80131936 0.83779589 0.83960678\n",
      " 0.8443927  0.85396456 0.85868581 0.82072177 0.84381063 0.85920321\n",
      " 0.86592938 0.88934161 0.8873367  0.86851636 0.8400595  0.77887725\n",
      " 0.75333075 0.75611176 0.70792912 0.72552063 0.75119648 0.68296469\n",
      " 0.72092873 0.67830811 0.65192084 0.57696288 0.63316518 0.5817488\n",
      " 0.47975682 0.5820075  0.42504204 0.44709611 0.43118613 0.47109042\n",
      " 0.44910102 0.43855905 0.52186004 0.49101022 0.53712327 0.49476135\n",
      " 0.55400336 0.55950071 0.51293494 0.50381581 0.47788126 0.55141638\n",
      " 0.57262967 0.60787738 0.61376277 0.61117579 0.63303583 0.62527487\n",
      " 0.62061829 0.63995602 0.63348855 0.58537059 0.65961713 0.67804941\n",
      " 0.70999871 0.69337731 0.66369163 0.73664468 0.80468245 0.78890182\n",
      " 0.80823956 0.81994567 0.82900013 0.84704437 0.85409391 0.85946191\n",
      " 0.8395421  0.80720476 0.81826413 0.84458673 0.85952658 0.88339154\n",
      " 0.9680507  0.97723451 1.         0.98247316 0.96268271 0.93888242\n",
      " 0.93648946 0.85109067 0.81901652 0.78696519 0.76262027 0.74824816\n",
      " 0.7425071  0.74257398 0.74540651 0.74830347]\n",
      "9 day output[[0.7491493]]\n",
      "10 day input [0.9121071  0.90201785 0.89024706 0.87039193 0.88927694 0.92445997\n",
      " 0.83585565 0.78657354 0.80131936 0.83779589 0.83960678 0.8443927\n",
      " 0.85396456 0.85868581 0.82072177 0.84381063 0.85920321 0.86592938\n",
      " 0.88934161 0.8873367  0.86851636 0.8400595  0.77887725 0.75333075\n",
      " 0.75611176 0.70792912 0.72552063 0.75119648 0.68296469 0.72092873\n",
      " 0.67830811 0.65192084 0.57696288 0.63316518 0.5817488  0.47975682\n",
      " 0.5820075  0.42504204 0.44709611 0.43118613 0.47109042 0.44910102\n",
      " 0.43855905 0.52186004 0.49101022 0.53712327 0.49476135 0.55400336\n",
      " 0.55950071 0.51293494 0.50381581 0.47788126 0.55141638 0.57262967\n",
      " 0.60787738 0.61376277 0.61117579 0.63303583 0.62527487 0.62061829\n",
      " 0.63995602 0.63348855 0.58537059 0.65961713 0.67804941 0.70999871\n",
      " 0.69337731 0.66369163 0.73664468 0.80468245 0.78890182 0.80823956\n",
      " 0.81994567 0.82900013 0.84704437 0.85409391 0.85946191 0.8395421\n",
      " 0.80720476 0.81826413 0.84458673 0.85952658 0.88339154 0.9680507\n",
      " 0.97723451 1.         0.98247316 0.96268271 0.93888242 0.93648946\n",
      " 0.85109067 0.81901652 0.78696519 0.76262027 0.74824816 0.7425071\n",
      " 0.74257398 0.74540651 0.74830347 0.74914932]\n",
      "10 day output[[0.7465405]]\n",
      "11 day input [0.90201785 0.89024706 0.87039193 0.88927694 0.92445997 0.83585565\n",
      " 0.78657354 0.80131936 0.83779589 0.83960678 0.8443927  0.85396456\n",
      " 0.85868581 0.82072177 0.84381063 0.85920321 0.86592938 0.88934161\n",
      " 0.8873367  0.86851636 0.8400595  0.77887725 0.75333075 0.75611176\n",
      " 0.70792912 0.72552063 0.75119648 0.68296469 0.72092873 0.67830811\n",
      " 0.65192084 0.57696288 0.63316518 0.5817488  0.47975682 0.5820075\n",
      " 0.42504204 0.44709611 0.43118613 0.47109042 0.44910102 0.43855905\n",
      " 0.52186004 0.49101022 0.53712327 0.49476135 0.55400336 0.55950071\n",
      " 0.51293494 0.50381581 0.47788126 0.55141638 0.57262967 0.60787738\n",
      " 0.61376277 0.61117579 0.63303583 0.62527487 0.62061829 0.63995602\n",
      " 0.63348855 0.58537059 0.65961713 0.67804941 0.70999871 0.69337731\n",
      " 0.66369163 0.73664468 0.80468245 0.78890182 0.80823956 0.81994567\n",
      " 0.82900013 0.84704437 0.85409391 0.85946191 0.8395421  0.80720476\n",
      " 0.81826413 0.84458673 0.85952658 0.88339154 0.9680507  0.97723451\n",
      " 1.         0.98247316 0.96268271 0.93888242 0.93648946 0.85109067\n",
      " 0.81901652 0.78696519 0.76262027 0.74824816 0.7425071  0.74257398\n",
      " 0.74540651 0.74830347 0.74914932 0.74654049]\n",
      "11 day output[[0.73984045]]\n",
      "12 day input [0.89024706 0.87039193 0.88927694 0.92445997 0.83585565 0.78657354\n",
      " 0.80131936 0.83779589 0.83960678 0.8443927  0.85396456 0.85868581\n",
      " 0.82072177 0.84381063 0.85920321 0.86592938 0.88934161 0.8873367\n",
      " 0.86851636 0.8400595  0.77887725 0.75333075 0.75611176 0.70792912\n",
      " 0.72552063 0.75119648 0.68296469 0.72092873 0.67830811 0.65192084\n",
      " 0.57696288 0.63316518 0.5817488  0.47975682 0.5820075  0.42504204\n",
      " 0.44709611 0.43118613 0.47109042 0.44910102 0.43855905 0.52186004\n",
      " 0.49101022 0.53712327 0.49476135 0.55400336 0.55950071 0.51293494\n",
      " 0.50381581 0.47788126 0.55141638 0.57262967 0.60787738 0.61376277\n",
      " 0.61117579 0.63303583 0.62527487 0.62061829 0.63995602 0.63348855\n",
      " 0.58537059 0.65961713 0.67804941 0.70999871 0.69337731 0.66369163\n",
      " 0.73664468 0.80468245 0.78890182 0.80823956 0.81994567 0.82900013\n",
      " 0.84704437 0.85409391 0.85946191 0.8395421  0.80720476 0.81826413\n",
      " 0.84458673 0.85952658 0.88339154 0.9680507  0.97723451 1.\n",
      " 0.98247316 0.96268271 0.93888242 0.93648946 0.85109067 0.81901652\n",
      " 0.78696519 0.76262027 0.74824816 0.7425071  0.74257398 0.74540651\n",
      " 0.74830347 0.74914932 0.74654049 0.73984045]\n",
      "12 day output[[0.72914946]]\n",
      "13 day input [0.87039193 0.88927694 0.92445997 0.83585565 0.78657354 0.80131936\n",
      " 0.83779589 0.83960678 0.8443927  0.85396456 0.85868581 0.82072177\n",
      " 0.84381063 0.85920321 0.86592938 0.88934161 0.8873367  0.86851636\n",
      " 0.8400595  0.77887725 0.75333075 0.75611176 0.70792912 0.72552063\n",
      " 0.75119648 0.68296469 0.72092873 0.67830811 0.65192084 0.57696288\n",
      " 0.63316518 0.5817488  0.47975682 0.5820075  0.42504204 0.44709611\n",
      " 0.43118613 0.47109042 0.44910102 0.43855905 0.52186004 0.49101022\n",
      " 0.53712327 0.49476135 0.55400336 0.55950071 0.51293494 0.50381581\n",
      " 0.47788126 0.55141638 0.57262967 0.60787738 0.61376277 0.61117579\n",
      " 0.63303583 0.62527487 0.62061829 0.63995602 0.63348855 0.58537059\n",
      " 0.65961713 0.67804941 0.70999871 0.69337731 0.66369163 0.73664468\n",
      " 0.80468245 0.78890182 0.80823956 0.81994567 0.82900013 0.84704437\n",
      " 0.85409391 0.85946191 0.8395421  0.80720476 0.81826413 0.84458673\n",
      " 0.85952658 0.88339154 0.9680507  0.97723451 1.         0.98247316\n",
      " 0.96268271 0.93888242 0.93648946 0.85109067 0.81901652 0.78696519\n",
      " 0.76262027 0.74824816 0.7425071  0.74257398 0.74540651 0.74830347\n",
      " 0.74914932 0.74654049 0.73984045 0.72914946]\n",
      "13 day output[[0.7151813]]\n",
      "14 day input [0.88927694 0.92445997 0.83585565 0.78657354 0.80131936 0.83779589\n",
      " 0.83960678 0.8443927  0.85396456 0.85868581 0.82072177 0.84381063\n",
      " 0.85920321 0.86592938 0.88934161 0.8873367  0.86851636 0.8400595\n",
      " 0.77887725 0.75333075 0.75611176 0.70792912 0.72552063 0.75119648\n",
      " 0.68296469 0.72092873 0.67830811 0.65192084 0.57696288 0.63316518\n",
      " 0.5817488  0.47975682 0.5820075  0.42504204 0.44709611 0.43118613\n",
      " 0.47109042 0.44910102 0.43855905 0.52186004 0.49101022 0.53712327\n",
      " 0.49476135 0.55400336 0.55950071 0.51293494 0.50381581 0.47788126\n",
      " 0.55141638 0.57262967 0.60787738 0.61376277 0.61117579 0.63303583\n",
      " 0.62527487 0.62061829 0.63995602 0.63348855 0.58537059 0.65961713\n",
      " 0.67804941 0.70999871 0.69337731 0.66369163 0.73664468 0.80468245\n",
      " 0.78890182 0.80823956 0.81994567 0.82900013 0.84704437 0.85409391\n",
      " 0.85946191 0.8395421  0.80720476 0.81826413 0.84458673 0.85952658\n",
      " 0.88339154 0.9680507  0.97723451 1.         0.98247316 0.96268271\n",
      " 0.93888242 0.93648946 0.85109067 0.81901652 0.78696519 0.76262027\n",
      " 0.74824816 0.7425071  0.74257398 0.74540651 0.74830347 0.74914932\n",
      " 0.74654049 0.73984045 0.72914946 0.71518129]\n",
      "14 day output[[0.6990619]]\n",
      "15 day input [0.92445997 0.83585565 0.78657354 0.80131936 0.83779589 0.83960678\n",
      " 0.8443927  0.85396456 0.85868581 0.82072177 0.84381063 0.85920321\n",
      " 0.86592938 0.88934161 0.8873367  0.86851636 0.8400595  0.77887725\n",
      " 0.75333075 0.75611176 0.70792912 0.72552063 0.75119648 0.68296469\n",
      " 0.72092873 0.67830811 0.65192084 0.57696288 0.63316518 0.5817488\n",
      " 0.47975682 0.5820075  0.42504204 0.44709611 0.43118613 0.47109042\n",
      " 0.44910102 0.43855905 0.52186004 0.49101022 0.53712327 0.49476135\n",
      " 0.55400336 0.55950071 0.51293494 0.50381581 0.47788126 0.55141638\n",
      " 0.57262967 0.60787738 0.61376277 0.61117579 0.63303583 0.62527487\n",
      " 0.62061829 0.63995602 0.63348855 0.58537059 0.65961713 0.67804941\n",
      " 0.70999871 0.69337731 0.66369163 0.73664468 0.80468245 0.78890182\n",
      " 0.80823956 0.81994567 0.82900013 0.84704437 0.85409391 0.85946191\n",
      " 0.8395421  0.80720476 0.81826413 0.84458673 0.85952658 0.88339154\n",
      " 0.9680507  0.97723451 1.         0.98247316 0.96268271 0.93888242\n",
      " 0.93648946 0.85109067 0.81901652 0.78696519 0.76262027 0.74824816\n",
      " 0.7425071  0.74257398 0.74540651 0.74830347 0.74914932 0.74654049\n",
      " 0.73984045 0.72914946 0.71518129 0.69906187]\n",
      "15 day output[[0.6820916]]\n",
      "16 day input [0.83585565 0.78657354 0.80131936 0.83779589 0.83960678 0.8443927\n",
      " 0.85396456 0.85868581 0.82072177 0.84381063 0.85920321 0.86592938\n",
      " 0.88934161 0.8873367  0.86851636 0.8400595  0.77887725 0.75333075\n",
      " 0.75611176 0.70792912 0.72552063 0.75119648 0.68296469 0.72092873\n",
      " 0.67830811 0.65192084 0.57696288 0.63316518 0.5817488  0.47975682\n",
      " 0.5820075  0.42504204 0.44709611 0.43118613 0.47109042 0.44910102\n",
      " 0.43855905 0.52186004 0.49101022 0.53712327 0.49476135 0.55400336\n",
      " 0.55950071 0.51293494 0.50381581 0.47788126 0.55141638 0.57262967\n",
      " 0.60787738 0.61376277 0.61117579 0.63303583 0.62527487 0.62061829\n",
      " 0.63995602 0.63348855 0.58537059 0.65961713 0.67804941 0.70999871\n",
      " 0.69337731 0.66369163 0.73664468 0.80468245 0.78890182 0.80823956\n",
      " 0.81994567 0.82900013 0.84704437 0.85409391 0.85946191 0.8395421\n",
      " 0.80720476 0.81826413 0.84458673 0.85952658 0.88339154 0.9680507\n",
      " 0.97723451 1.         0.98247316 0.96268271 0.93888242 0.93648946\n",
      " 0.85109067 0.81901652 0.78696519 0.76262027 0.74824816 0.7425071\n",
      " 0.74257398 0.74540651 0.74830347 0.74914932 0.74654049 0.73984045\n",
      " 0.72914946 0.71518129 0.69906187 0.68209159]\n",
      "16 day output[[0.66550505]]\n",
      "17 day input [0.78657354 0.80131936 0.83779589 0.83960678 0.8443927  0.85396456\n",
      " 0.85868581 0.82072177 0.84381063 0.85920321 0.86592938 0.88934161\n",
      " 0.8873367  0.86851636 0.8400595  0.77887725 0.75333075 0.75611176\n",
      " 0.70792912 0.72552063 0.75119648 0.68296469 0.72092873 0.67830811\n",
      " 0.65192084 0.57696288 0.63316518 0.5817488  0.47975682 0.5820075\n",
      " 0.42504204 0.44709611 0.43118613 0.47109042 0.44910102 0.43855905\n",
      " 0.52186004 0.49101022 0.53712327 0.49476135 0.55400336 0.55950071\n",
      " 0.51293494 0.50381581 0.47788126 0.55141638 0.57262967 0.60787738\n",
      " 0.61376277 0.61117579 0.63303583 0.62527487 0.62061829 0.63995602\n",
      " 0.63348855 0.58537059 0.65961713 0.67804941 0.70999871 0.69337731\n",
      " 0.66369163 0.73664468 0.80468245 0.78890182 0.80823956 0.81994567\n",
      " 0.82900013 0.84704437 0.85409391 0.85946191 0.8395421  0.80720476\n",
      " 0.81826413 0.84458673 0.85952658 0.88339154 0.9680507  0.97723451\n",
      " 1.         0.98247316 0.96268271 0.93888242 0.93648946 0.85109067\n",
      " 0.81901652 0.78696519 0.76262027 0.74824816 0.7425071  0.74257398\n",
      " 0.74540651 0.74830347 0.74914932 0.74654049 0.73984045 0.72914946\n",
      " 0.71518129 0.69906187 0.68209159 0.66550505]\n",
      "17 day output[[0.6502751]]\n",
      "18 day input [0.80131936 0.83779589 0.83960678 0.8443927  0.85396456 0.85868581\n",
      " 0.82072177 0.84381063 0.85920321 0.86592938 0.88934161 0.8873367\n",
      " 0.86851636 0.8400595  0.77887725 0.75333075 0.75611176 0.70792912\n",
      " 0.72552063 0.75119648 0.68296469 0.72092873 0.67830811 0.65192084\n",
      " 0.57696288 0.63316518 0.5817488  0.47975682 0.5820075  0.42504204\n",
      " 0.44709611 0.43118613 0.47109042 0.44910102 0.43855905 0.52186004\n",
      " 0.49101022 0.53712327 0.49476135 0.55400336 0.55950071 0.51293494\n",
      " 0.50381581 0.47788126 0.55141638 0.57262967 0.60787738 0.61376277\n",
      " 0.61117579 0.63303583 0.62527487 0.62061829 0.63995602 0.63348855\n",
      " 0.58537059 0.65961713 0.67804941 0.70999871 0.69337731 0.66369163\n",
      " 0.73664468 0.80468245 0.78890182 0.80823956 0.81994567 0.82900013\n",
      " 0.84704437 0.85409391 0.85946191 0.8395421  0.80720476 0.81826413\n",
      " 0.84458673 0.85952658 0.88339154 0.9680507  0.97723451 1.\n",
      " 0.98247316 0.96268271 0.93888242 0.93648946 0.85109067 0.81901652\n",
      " 0.78696519 0.76262027 0.74824816 0.7425071  0.74257398 0.74540651\n",
      " 0.74830347 0.74914932 0.74654049 0.73984045 0.72914946 0.71518129\n",
      " 0.69906187 0.68209159 0.66550505 0.65027511]\n",
      "18 day output[[0.63699937]]\n",
      "19 day input [0.83779589 0.83960678 0.8443927  0.85396456 0.85868581 0.82072177\n",
      " 0.84381063 0.85920321 0.86592938 0.88934161 0.8873367  0.86851636\n",
      " 0.8400595  0.77887725 0.75333075 0.75611176 0.70792912 0.72552063\n",
      " 0.75119648 0.68296469 0.72092873 0.67830811 0.65192084 0.57696288\n",
      " 0.63316518 0.5817488  0.47975682 0.5820075  0.42504204 0.44709611\n",
      " 0.43118613 0.47109042 0.44910102 0.43855905 0.52186004 0.49101022\n",
      " 0.53712327 0.49476135 0.55400336 0.55950071 0.51293494 0.50381581\n",
      " 0.47788126 0.55141638 0.57262967 0.60787738 0.61376277 0.61117579\n",
      " 0.63303583 0.62527487 0.62061829 0.63995602 0.63348855 0.58537059\n",
      " 0.65961713 0.67804941 0.70999871 0.69337731 0.66369163 0.73664468\n",
      " 0.80468245 0.78890182 0.80823956 0.81994567 0.82900013 0.84704437\n",
      " 0.85409391 0.85946191 0.8395421  0.80720476 0.81826413 0.84458673\n",
      " 0.85952658 0.88339154 0.9680507  0.97723451 1.         0.98247316\n",
      " 0.96268271 0.93888242 0.93648946 0.85109067 0.81901652 0.78696519\n",
      " 0.76262027 0.74824816 0.7425071  0.74257398 0.74540651 0.74830347\n",
      " 0.74914932 0.74654049 0.73984045 0.72914946 0.71518129 0.69906187\n",
      " 0.68209159 0.66550505 0.65027511 0.63699937]\n",
      "19 day output[[0.62587404]]\n",
      "20 day input [0.83960678 0.8443927  0.85396456 0.85868581 0.82072177 0.84381063\n",
      " 0.85920321 0.86592938 0.88934161 0.8873367  0.86851636 0.8400595\n",
      " 0.77887725 0.75333075 0.75611176 0.70792912 0.72552063 0.75119648\n",
      " 0.68296469 0.72092873 0.67830811 0.65192084 0.57696288 0.63316518\n",
      " 0.5817488  0.47975682 0.5820075  0.42504204 0.44709611 0.43118613\n",
      " 0.47109042 0.44910102 0.43855905 0.52186004 0.49101022 0.53712327\n",
      " 0.49476135 0.55400336 0.55950071 0.51293494 0.50381581 0.47788126\n",
      " 0.55141638 0.57262967 0.60787738 0.61376277 0.61117579 0.63303583\n",
      " 0.62527487 0.62061829 0.63995602 0.63348855 0.58537059 0.65961713\n",
      " 0.67804941 0.70999871 0.69337731 0.66369163 0.73664468 0.80468245\n",
      " 0.78890182 0.80823956 0.81994567 0.82900013 0.84704437 0.85409391\n",
      " 0.85946191 0.8395421  0.80720476 0.81826413 0.84458673 0.85952658\n",
      " 0.88339154 0.9680507  0.97723451 1.         0.98247316 0.96268271\n",
      " 0.93888242 0.93648946 0.85109067 0.81901652 0.78696519 0.76262027\n",
      " 0.74824816 0.7425071  0.74257398 0.74540651 0.74830347 0.74914932\n",
      " 0.74654049 0.73984045 0.72914946 0.71518129 0.69906187 0.68209159\n",
      " 0.66550505 0.65027511 0.63699937 0.62587404]\n",
      "20 day output[[0.6167505]]\n",
      "21 day input [0.8443927  0.85396456 0.85868581 0.82072177 0.84381063 0.85920321\n",
      " 0.86592938 0.88934161 0.8873367  0.86851636 0.8400595  0.77887725\n",
      " 0.75333075 0.75611176 0.70792912 0.72552063 0.75119648 0.68296469\n",
      " 0.72092873 0.67830811 0.65192084 0.57696288 0.63316518 0.5817488\n",
      " 0.47975682 0.5820075  0.42504204 0.44709611 0.43118613 0.47109042\n",
      " 0.44910102 0.43855905 0.52186004 0.49101022 0.53712327 0.49476135\n",
      " 0.55400336 0.55950071 0.51293494 0.50381581 0.47788126 0.55141638\n",
      " 0.57262967 0.60787738 0.61376277 0.61117579 0.63303583 0.62527487\n",
      " 0.62061829 0.63995602 0.63348855 0.58537059 0.65961713 0.67804941\n",
      " 0.70999871 0.69337731 0.66369163 0.73664468 0.80468245 0.78890182\n",
      " 0.80823956 0.81994567 0.82900013 0.84704437 0.85409391 0.85946191\n",
      " 0.8395421  0.80720476 0.81826413 0.84458673 0.85952658 0.88339154\n",
      " 0.9680507  0.97723451 1.         0.98247316 0.96268271 0.93888242\n",
      " 0.93648946 0.85109067 0.81901652 0.78696519 0.76262027 0.74824816\n",
      " 0.7425071  0.74257398 0.74540651 0.74830347 0.74914932 0.74654049\n",
      " 0.73984045 0.72914946 0.71518129 0.69906187 0.68209159 0.66550505\n",
      " 0.65027511 0.63699937 0.62587404 0.61675048]\n",
      "21 day output[[0.60924053]]\n",
      "22 day input [0.85396456 0.85868581 0.82072177 0.84381063 0.85920321 0.86592938\n",
      " 0.88934161 0.8873367  0.86851636 0.8400595  0.77887725 0.75333075\n",
      " 0.75611176 0.70792912 0.72552063 0.75119648 0.68296469 0.72092873\n",
      " 0.67830811 0.65192084 0.57696288 0.63316518 0.5817488  0.47975682\n",
      " 0.5820075  0.42504204 0.44709611 0.43118613 0.47109042 0.44910102\n",
      " 0.43855905 0.52186004 0.49101022 0.53712327 0.49476135 0.55400336\n",
      " 0.55950071 0.51293494 0.50381581 0.47788126 0.55141638 0.57262967\n",
      " 0.60787738 0.61376277 0.61117579 0.63303583 0.62527487 0.62061829\n",
      " 0.63995602 0.63348855 0.58537059 0.65961713 0.67804941 0.70999871\n",
      " 0.69337731 0.66369163 0.73664468 0.80468245 0.78890182 0.80823956\n",
      " 0.81994567 0.82900013 0.84704437 0.85409391 0.85946191 0.8395421\n",
      " 0.80720476 0.81826413 0.84458673 0.85952658 0.88339154 0.9680507\n",
      " 0.97723451 1.         0.98247316 0.96268271 0.93888242 0.93648946\n",
      " 0.85109067 0.81901652 0.78696519 0.76262027 0.74824816 0.7425071\n",
      " 0.74257398 0.74540651 0.74830347 0.74914932 0.74654049 0.73984045\n",
      " 0.72914946 0.71518129 0.69906187 0.68209159 0.66550505 0.65027511\n",
      " 0.63699937 0.62587404 0.61675048 0.60924053]\n",
      "22 day output[[0.60283446]]\n",
      "23 day input [0.85868581 0.82072177 0.84381063 0.85920321 0.86592938 0.88934161\n",
      " 0.8873367  0.86851636 0.8400595  0.77887725 0.75333075 0.75611176\n",
      " 0.70792912 0.72552063 0.75119648 0.68296469 0.72092873 0.67830811\n",
      " 0.65192084 0.57696288 0.63316518 0.5817488  0.47975682 0.5820075\n",
      " 0.42504204 0.44709611 0.43118613 0.47109042 0.44910102 0.43855905\n",
      " 0.52186004 0.49101022 0.53712327 0.49476135 0.55400336 0.55950071\n",
      " 0.51293494 0.50381581 0.47788126 0.55141638 0.57262967 0.60787738\n",
      " 0.61376277 0.61117579 0.63303583 0.62527487 0.62061829 0.63995602\n",
      " 0.63348855 0.58537059 0.65961713 0.67804941 0.70999871 0.69337731\n",
      " 0.66369163 0.73664468 0.80468245 0.78890182 0.80823956 0.81994567\n",
      " 0.82900013 0.84704437 0.85409391 0.85946191 0.8395421  0.80720476\n",
      " 0.81826413 0.84458673 0.85952658 0.88339154 0.9680507  0.97723451\n",
      " 1.         0.98247316 0.96268271 0.93888242 0.93648946 0.85109067\n",
      " 0.81901652 0.78696519 0.76262027 0.74824816 0.7425071  0.74257398\n",
      " 0.74540651 0.74830347 0.74914932 0.74654049 0.73984045 0.72914946\n",
      " 0.71518129 0.69906187 0.68209159 0.66550505 0.65027511 0.63699937\n",
      " 0.62587404 0.61675048 0.60924053 0.60283446]\n",
      "23 day output[[0.5970026]]\n",
      "24 day input [0.82072177 0.84381063 0.85920321 0.86592938 0.88934161 0.8873367\n",
      " 0.86851636 0.8400595  0.77887725 0.75333075 0.75611176 0.70792912\n",
      " 0.72552063 0.75119648 0.68296469 0.72092873 0.67830811 0.65192084\n",
      " 0.57696288 0.63316518 0.5817488  0.47975682 0.5820075  0.42504204\n",
      " 0.44709611 0.43118613 0.47109042 0.44910102 0.43855905 0.52186004\n",
      " 0.49101022 0.53712327 0.49476135 0.55400336 0.55950071 0.51293494\n",
      " 0.50381581 0.47788126 0.55141638 0.57262967 0.60787738 0.61376277\n",
      " 0.61117579 0.63303583 0.62527487 0.62061829 0.63995602 0.63348855\n",
      " 0.58537059 0.65961713 0.67804941 0.70999871 0.69337731 0.66369163\n",
      " 0.73664468 0.80468245 0.78890182 0.80823956 0.81994567 0.82900013\n",
      " 0.84704437 0.85409391 0.85946191 0.8395421  0.80720476 0.81826413\n",
      " 0.84458673 0.85952658 0.88339154 0.9680507  0.97723451 1.\n",
      " 0.98247316 0.96268271 0.93888242 0.93648946 0.85109067 0.81901652\n",
      " 0.78696519 0.76262027 0.74824816 0.7425071  0.74257398 0.74540651\n",
      " 0.74830347 0.74914932 0.74654049 0.73984045 0.72914946 0.71518129\n",
      " 0.69906187 0.68209159 0.66550505 0.65027511 0.63699937 0.62587404\n",
      " 0.61675048 0.60924053 0.60283446 0.59700263]\n",
      "24 day output[[0.5912718]]\n",
      "25 day input [0.84381063 0.85920321 0.86592938 0.88934161 0.8873367  0.86851636\n",
      " 0.8400595  0.77887725 0.75333075 0.75611176 0.70792912 0.72552063\n",
      " 0.75119648 0.68296469 0.72092873 0.67830811 0.65192084 0.57696288\n",
      " 0.63316518 0.5817488  0.47975682 0.5820075  0.42504204 0.44709611\n",
      " 0.43118613 0.47109042 0.44910102 0.43855905 0.52186004 0.49101022\n",
      " 0.53712327 0.49476135 0.55400336 0.55950071 0.51293494 0.50381581\n",
      " 0.47788126 0.55141638 0.57262967 0.60787738 0.61376277 0.61117579\n",
      " 0.63303583 0.62527487 0.62061829 0.63995602 0.63348855 0.58537059\n",
      " 0.65961713 0.67804941 0.70999871 0.69337731 0.66369163 0.73664468\n",
      " 0.80468245 0.78890182 0.80823956 0.81994567 0.82900013 0.84704437\n",
      " 0.85409391 0.85946191 0.8395421  0.80720476 0.81826413 0.84458673\n",
      " 0.85952658 0.88339154 0.9680507  0.97723451 1.         0.98247316\n",
      " 0.96268271 0.93888242 0.93648946 0.85109067 0.81901652 0.78696519\n",
      " 0.76262027 0.74824816 0.7425071  0.74257398 0.74540651 0.74830347\n",
      " 0.74914932 0.74654049 0.73984045 0.72914946 0.71518129 0.69906187\n",
      " 0.68209159 0.66550505 0.65027511 0.63699937 0.62587404 0.61675048\n",
      " 0.60924053 0.60283446 0.59700263 0.59127182]\n",
      "25 day output[[0.58527166]]\n",
      "26 day input [0.85920321 0.86592938 0.88934161 0.8873367  0.86851636 0.8400595\n",
      " 0.77887725 0.75333075 0.75611176 0.70792912 0.72552063 0.75119648\n",
      " 0.68296469 0.72092873 0.67830811 0.65192084 0.57696288 0.63316518\n",
      " 0.5817488  0.47975682 0.5820075  0.42504204 0.44709611 0.43118613\n",
      " 0.47109042 0.44910102 0.43855905 0.52186004 0.49101022 0.53712327\n",
      " 0.49476135 0.55400336 0.55950071 0.51293494 0.50381581 0.47788126\n",
      " 0.55141638 0.57262967 0.60787738 0.61376277 0.61117579 0.63303583\n",
      " 0.62527487 0.62061829 0.63995602 0.63348855 0.58537059 0.65961713\n",
      " 0.67804941 0.70999871 0.69337731 0.66369163 0.73664468 0.80468245\n",
      " 0.78890182 0.80823956 0.81994567 0.82900013 0.84704437 0.85409391\n",
      " 0.85946191 0.8395421  0.80720476 0.81826413 0.84458673 0.85952658\n",
      " 0.88339154 0.9680507  0.97723451 1.         0.98247316 0.96268271\n",
      " 0.93888242 0.93648946 0.85109067 0.81901652 0.78696519 0.76262027\n",
      " 0.74824816 0.7425071  0.74257398 0.74540651 0.74830347 0.74914932\n",
      " 0.74654049 0.73984045 0.72914946 0.71518129 0.69906187 0.68209159\n",
      " 0.66550505 0.65027511 0.63699937 0.62587404 0.61675048 0.60924053\n",
      " 0.60283446 0.59700263 0.59127182 0.58527166]\n",
      "26 day output[[0.57875896]]\n",
      "27 day input [0.86592938 0.88934161 0.8873367  0.86851636 0.8400595  0.77887725\n",
      " 0.75333075 0.75611176 0.70792912 0.72552063 0.75119648 0.68296469\n",
      " 0.72092873 0.67830811 0.65192084 0.57696288 0.63316518 0.5817488\n",
      " 0.47975682 0.5820075  0.42504204 0.44709611 0.43118613 0.47109042\n",
      " 0.44910102 0.43855905 0.52186004 0.49101022 0.53712327 0.49476135\n",
      " 0.55400336 0.55950071 0.51293494 0.50381581 0.47788126 0.55141638\n",
      " 0.57262967 0.60787738 0.61376277 0.61117579 0.63303583 0.62527487\n",
      " 0.62061829 0.63995602 0.63348855 0.58537059 0.65961713 0.67804941\n",
      " 0.70999871 0.69337731 0.66369163 0.73664468 0.80468245 0.78890182\n",
      " 0.80823956 0.81994567 0.82900013 0.84704437 0.85409391 0.85946191\n",
      " 0.8395421  0.80720476 0.81826413 0.84458673 0.85952658 0.88339154\n",
      " 0.9680507  0.97723451 1.         0.98247316 0.96268271 0.93888242\n",
      " 0.93648946 0.85109067 0.81901652 0.78696519 0.76262027 0.74824816\n",
      " 0.7425071  0.74257398 0.74540651 0.74830347 0.74914932 0.74654049\n",
      " 0.73984045 0.72914946 0.71518129 0.69906187 0.68209159 0.66550505\n",
      " 0.65027511 0.63699937 0.62587404 0.61675048 0.60924053 0.60283446\n",
      " 0.59700263 0.59127182 0.58527166 0.57875896]\n",
      "27 day output[[0.5716183]]\n",
      "28 day input [0.88934161 0.8873367  0.86851636 0.8400595  0.77887725 0.75333075\n",
      " 0.75611176 0.70792912 0.72552063 0.75119648 0.68296469 0.72092873\n",
      " 0.67830811 0.65192084 0.57696288 0.63316518 0.5817488  0.47975682\n",
      " 0.5820075  0.42504204 0.44709611 0.43118613 0.47109042 0.44910102\n",
      " 0.43855905 0.52186004 0.49101022 0.53712327 0.49476135 0.55400336\n",
      " 0.55950071 0.51293494 0.50381581 0.47788126 0.55141638 0.57262967\n",
      " 0.60787738 0.61376277 0.61117579 0.63303583 0.62527487 0.62061829\n",
      " 0.63995602 0.63348855 0.58537059 0.65961713 0.67804941 0.70999871\n",
      " 0.69337731 0.66369163 0.73664468 0.80468245 0.78890182 0.80823956\n",
      " 0.81994567 0.82900013 0.84704437 0.85409391 0.85946191 0.8395421\n",
      " 0.80720476 0.81826413 0.84458673 0.85952658 0.88339154 0.9680507\n",
      " 0.97723451 1.         0.98247316 0.96268271 0.93888242 0.93648946\n",
      " 0.85109067 0.81901652 0.78696519 0.76262027 0.74824816 0.7425071\n",
      " 0.74257398 0.74540651 0.74830347 0.74914932 0.74654049 0.73984045\n",
      " 0.72914946 0.71518129 0.69906187 0.68209159 0.66550505 0.65027511\n",
      " 0.63699937 0.62587404 0.61675048 0.60924053 0.60283446 0.59700263\n",
      " 0.59127182 0.58527166 0.57875896 0.57161832]\n",
      "28 day output[[0.5638496]]\n",
      "29 day input [0.8873367  0.86851636 0.8400595  0.77887725 0.75333075 0.75611176\n",
      " 0.70792912 0.72552063 0.75119648 0.68296469 0.72092873 0.67830811\n",
      " 0.65192084 0.57696288 0.63316518 0.5817488  0.47975682 0.5820075\n",
      " 0.42504204 0.44709611 0.43118613 0.47109042 0.44910102 0.43855905\n",
      " 0.52186004 0.49101022 0.53712327 0.49476135 0.55400336 0.55950071\n",
      " 0.51293494 0.50381581 0.47788126 0.55141638 0.57262967 0.60787738\n",
      " 0.61376277 0.61117579 0.63303583 0.62527487 0.62061829 0.63995602\n",
      " 0.63348855 0.58537059 0.65961713 0.67804941 0.70999871 0.69337731\n",
      " 0.66369163 0.73664468 0.80468245 0.78890182 0.80823956 0.81994567\n",
      " 0.82900013 0.84704437 0.85409391 0.85946191 0.8395421  0.80720476\n",
      " 0.81826413 0.84458673 0.85952658 0.88339154 0.9680507  0.97723451\n",
      " 1.         0.98247316 0.96268271 0.93888242 0.93648946 0.85109067\n",
      " 0.81901652 0.78696519 0.76262027 0.74824816 0.7425071  0.74257398\n",
      " 0.74540651 0.74830347 0.74914932 0.74654049 0.73984045 0.72914946\n",
      " 0.71518129 0.69906187 0.68209159 0.66550505 0.65027511 0.63699937\n",
      " 0.62587404 0.61675048 0.60924053 0.60283446 0.59700263 0.59127182\n",
      " 0.58527166 0.57875896 0.57161832 0.56384963]\n",
      "29 day output[[0.5555438]]\n",
      "[[0.851090669631958], [0.8190165162086487], [0.7869651913642883], [0.7626202702522278], [0.7482481598854065], [0.7425071001052856], [0.7425739765167236], [0.7454065084457397], [0.7483034729957581], [0.7491493225097656], [0.7465404868125916], [0.7398404479026794], [0.7291494607925415], [0.715181291103363], [0.6990618705749512], [0.6820915937423706], [0.665505051612854], [0.6502751111984253], [0.6369993686676025], [0.6258740425109863], [0.6167504787445068], [0.6092405319213867], [0.6028344631195068], [0.5970026254653931], [0.5912718176841736], [0.5852716565132141], [0.578758955001831], [0.5716183185577393], [0.5638496279716492], [0.5555437803268433]]\n"
     ]
    }
   ],
   "source": [
    "# demonatrate prediction for next 10 days\n",
    "from numpy import array\n",
    "lst_output=[]\n",
    "n_steps=100\n",
    "i=0\n",
    "while(i<30):\n",
    "    if(len(temp_input)>100):\n",
    "        x_input = np.array(temp_input[1:])\n",
    "        print(\"{} day input {}\".format(i, x_input))\n",
    "        \n",
    "        x_input = x_input.reshape(1, -1)\n",
    "        x_input = x_input.reshape(1, n_steps, 1)\n",
    "        \n",
    "        yhat = model.predict(x_input, verbose=0)\n",
    "        print(\"{} day output{}\".format(i, yhat))\n",
    "        \n",
    "        temp_input.extend(yhat[0].tolist())\n",
    "        temp_input = temp_input[1:]\n",
    "        \n",
    "        lst_output.extend(yhat.tolist())\n",
    "        i += 1\n",
    "    else:\n",
    "        x_input = x_input.reshape((1, n_steps, 1))\n",
    "        yhat = model.predict(x_input, verbose=0)\n",
    "        print(yhat[0])\n",
    "        temp_input.extend(yhat[0].tolist())\n",
    "        print(len(temp_input))\n",
    "        lst_output.extend(yhat.tolist())\n",
    "        i += 1\n",
    "print(lst_output)"
   ]
  },
  {
   "cell_type": "markdown",
   "metadata": {},
   "source": [
    "###  ploting the output"
   ]
  },
  {
   "cell_type": "code",
   "execution_count": 99,
   "metadata": {},
   "outputs": [],
   "source": [
    "# ploting the output\n",
    "day_new = np.arange(1, 101) # taking the 100 data points\n",
    "day_pred = np.arange(101, 131) # predicting for 30 days\n",
    "\n",
    "df3 = df1.tolist()\n",
    "df3.extend(lst_output)"
   ]
  },
  {
   "cell_type": "code",
   "execution_count": 100,
   "metadata": {},
   "outputs": [
    {
     "data": {
      "text/plain": [
       "1259"
      ]
     },
     "execution_count": 100,
     "metadata": {},
     "output_type": "execute_result"
    }
   ],
   "source": [
    "len(df1)"
   ]
  },
  {
   "cell_type": "code",
   "execution_count": 101,
   "metadata": {},
   "outputs": [
    {
     "data": {
      "text/plain": [
       "[<matplotlib.lines.Line2D at 0x29cc580bb88>]"
      ]
     },
     "execution_count": 101,
     "metadata": {},
     "output_type": "execute_result"
    },
    {
     "data": {
      "image/png": "[encoded data removed]",
      "text/plain": [
       "<Figure size 432x288 with 1 Axes>"
      ]
     },
     "metadata": {
      "needs_background": "light"
     },
     "output_type": "display_data"
    }
   ],
   "source": [
    "plt.plot(day_new, scaler.inverse_transform(df1[1159: ]))\n",
    "plt.plot(day_pred, scaler.inverse_transform(lst_output))\n",
    "\n",
    "# the Orange line depicts the Closing Stock Price of FB for the next 30 days."
   ]
  },
  {
   "cell_type": "code",
   "execution_count": 102,
   "metadata": {},
   "outputs": [
    {
     "data": {
      "text/plain": [
       "[<matplotlib.lines.Line2D at 0x29eded6df88>]"
      ]
     },
     "execution_count": 102,
     "metadata": {},
     "output_type": "execute_result"
    },
    {
     "data": {
      "image/png": "[encoded data removed]",
      "text/plain": [
       "<Figure size 432x288 with 1 Axes>"
      ]
     },
     "metadata": {
      "needs_background": "light"
     },
     "output_type": "display_data"
    }
   ],
   "source": [
    "# to see the complete output\n",
    "plt.plot(df3[1000:]) # we can change the numerical input for customized output"
   ]
  },
  {
   "cell_type": "code",
   "execution_count": 103,
   "metadata": {},
   "outputs": [
    {
     "data": {
      "text/plain": [
       "[<matplotlib.lines.Line2D at 0x29edecfefc8>]"
      ]
     },
     "execution_count": 103,
     "metadata": {},
     "output_type": "execute_result"
    },
    {
     "data": {
      "image/png": "[encoded data removed]",
      "text/plain": [
       "<Figure size 432x288 with 1 Axes>"
      ]
     },
     "metadata": {
      "needs_background": "light"
     },
     "output_type": "display_data"
    }
   ],
   "source": [
    "# Or w can combine these two\n",
    "df3 = df1.tolist()\n",
    "df3.extend(lst_output)\n",
    "plt.plot(df3[1000:])"
   ]
  },
  {
   "cell_type": "markdown",
   "metadata": {},
   "source": [
    "To improve this model, one can consider different timesteps such as 150 or 175 or one can predict for 100 days except for 30 days"
   ]
  },
  {
   "cell_type": "code",
   "execution_count": null,
   "metadata": {},
   "outputs": [],
   "source": []
  }
 ],
 "metadata": {
  "kernelspec": {
   "display_name": "Python 3",
   "language": "python",
   "name": "python3"
  },
  "language_info": {
   "codemirror_mode": {
    "name": "ipython",
    "version": 3
   },
   "file_extension": ".py",
   "mimetype": "text/x-python",
   "name": "python",
   "nbconvert_exporter": "python",
   "pygments_lexer": "ipython3",
   "version": "3.7.4"
  }
 },
 "nbformat": 4,
 "nbformat_minor": 4
}
